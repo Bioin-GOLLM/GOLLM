{
  "cells": [
    {
      "cell_type": "code",
      "execution_count": 8,
      "metadata": {
        "colab": {
          "base_uri": "https://localhost:8080/"
        },
        "id": "74CKLQNFlTeD",
        "outputId": "347f5ace-7baf-4081-82c3-bdc879387ecb"
      },
      "outputs": [
        {
          "output_type": "stream",
          "name": "stdout",
          "text": [
            "Requirement already satisfied: spacy in /usr/local/lib/python3.11/dist-packages (3.7.5)\n",
            "Requirement already satisfied: spacy-legacy<3.1.0,>=3.0.11 in /usr/local/lib/python3.11/dist-packages (from spacy) (3.0.12)\n",
            "Requirement already satisfied: spacy-loggers<2.0.0,>=1.0.0 in /usr/local/lib/python3.11/dist-packages (from spacy) (1.0.5)\n",
            "Requirement already satisfied: murmurhash<1.1.0,>=0.28.0 in /usr/local/lib/python3.11/dist-packages (from spacy) (1.0.12)\n",
            "Requirement already satisfied: cymem<2.1.0,>=2.0.2 in /usr/local/lib/python3.11/dist-packages (from spacy) (2.0.11)\n",
            "Requirement already satisfied: preshed<3.1.0,>=3.0.2 in /usr/local/lib/python3.11/dist-packages (from spacy) (3.0.9)\n",
            "Requirement already satisfied: thinc<8.3.0,>=8.2.2 in /usr/local/lib/python3.11/dist-packages (from spacy) (8.2.5)\n",
            "Requirement already satisfied: wasabi<1.2.0,>=0.9.1 in /usr/local/lib/python3.11/dist-packages (from spacy) (1.1.3)\n",
            "Requirement already satisfied: srsly<3.0.0,>=2.4.3 in /usr/local/lib/python3.11/dist-packages (from spacy) (2.5.1)\n",
            "Requirement already satisfied: catalogue<2.1.0,>=2.0.6 in /usr/local/lib/python3.11/dist-packages (from spacy) (2.0.10)\n",
            "Requirement already satisfied: weasel<0.5.0,>=0.1.0 in /usr/local/lib/python3.11/dist-packages (from spacy) (0.4.1)\n",
            "Requirement already satisfied: typer<1.0.0,>=0.3.0 in /usr/local/lib/python3.11/dist-packages (from spacy) (0.15.1)\n",
            "Requirement already satisfied: tqdm<5.0.0,>=4.38.0 in /usr/local/lib/python3.11/dist-packages (from spacy) (4.67.1)\n",
            "Requirement already satisfied: requests<3.0.0,>=2.13.0 in /usr/local/lib/python3.11/dist-packages (from spacy) (2.32.3)\n",
            "Requirement already satisfied: pydantic!=1.8,!=1.8.1,<3.0.0,>=1.7.4 in /usr/local/lib/python3.11/dist-packages (from spacy) (2.10.6)\n",
            "Requirement already satisfied: jinja2 in /usr/local/lib/python3.11/dist-packages (from spacy) (3.1.5)\n",
            "Requirement already satisfied: setuptools in /usr/local/lib/python3.11/dist-packages (from spacy) (75.1.0)\n",
            "Requirement already satisfied: packaging>=20.0 in /usr/local/lib/python3.11/dist-packages (from spacy) (24.2)\n",
            "Requirement already satisfied: langcodes<4.0.0,>=3.2.0 in /usr/local/lib/python3.11/dist-packages (from spacy) (3.5.0)\n",
            "Requirement already satisfied: numpy>=1.19.0 in /usr/local/lib/python3.11/dist-packages (from spacy) (1.26.4)\n",
            "Requirement already satisfied: language-data>=1.2 in /usr/local/lib/python3.11/dist-packages (from langcodes<4.0.0,>=3.2.0->spacy) (1.3.0)\n",
            "Requirement already satisfied: annotated-types>=0.6.0 in /usr/local/lib/python3.11/dist-packages (from pydantic!=1.8,!=1.8.1,<3.0.0,>=1.7.4->spacy) (0.7.0)\n",
            "Requirement already satisfied: pydantic-core==2.27.2 in /usr/local/lib/python3.11/dist-packages (from pydantic!=1.8,!=1.8.1,<3.0.0,>=1.7.4->spacy) (2.27.2)\n",
            "Requirement already satisfied: typing-extensions>=4.12.2 in /usr/local/lib/python3.11/dist-packages (from pydantic!=1.8,!=1.8.1,<3.0.0,>=1.7.4->spacy) (4.12.2)\n",
            "Requirement already satisfied: charset-normalizer<4,>=2 in /usr/local/lib/python3.11/dist-packages (from requests<3.0.0,>=2.13.0->spacy) (3.4.1)\n",
            "Requirement already satisfied: idna<4,>=2.5 in /usr/local/lib/python3.11/dist-packages (from requests<3.0.0,>=2.13.0->spacy) (3.10)\n",
            "Requirement already satisfied: urllib3<3,>=1.21.1 in /usr/local/lib/python3.11/dist-packages (from requests<3.0.0,>=2.13.0->spacy) (2.3.0)\n",
            "Requirement already satisfied: certifi>=2017.4.17 in /usr/local/lib/python3.11/dist-packages (from requests<3.0.0,>=2.13.0->spacy) (2025.1.31)\n",
            "Requirement already satisfied: blis<0.8.0,>=0.7.8 in /usr/local/lib/python3.11/dist-packages (from thinc<8.3.0,>=8.2.2->spacy) (0.7.11)\n",
            "Requirement already satisfied: confection<1.0.0,>=0.0.1 in /usr/local/lib/python3.11/dist-packages (from thinc<8.3.0,>=8.2.2->spacy) (0.1.5)\n",
            "Requirement already satisfied: click>=8.0.0 in /usr/local/lib/python3.11/dist-packages (from typer<1.0.0,>=0.3.0->spacy) (8.1.8)\n",
            "Requirement already satisfied: shellingham>=1.3.0 in /usr/local/lib/python3.11/dist-packages (from typer<1.0.0,>=0.3.0->spacy) (1.5.4)\n",
            "Requirement already satisfied: rich>=10.11.0 in /usr/local/lib/python3.11/dist-packages (from typer<1.0.0,>=0.3.0->spacy) (13.9.4)\n",
            "Requirement already satisfied: cloudpathlib<1.0.0,>=0.7.0 in /usr/local/lib/python3.11/dist-packages (from weasel<0.5.0,>=0.1.0->spacy) (0.20.0)\n",
            "Requirement already satisfied: smart-open<8.0.0,>=5.2.1 in /usr/local/lib/python3.11/dist-packages (from weasel<0.5.0,>=0.1.0->spacy) (7.1.0)\n",
            "Requirement already satisfied: MarkupSafe>=2.0 in /usr/local/lib/python3.11/dist-packages (from jinja2->spacy) (3.0.2)\n",
            "Requirement already satisfied: marisa-trie>=1.1.0 in /usr/local/lib/python3.11/dist-packages (from language-data>=1.2->langcodes<4.0.0,>=3.2.0->spacy) (1.2.1)\n",
            "Requirement already satisfied: markdown-it-py>=2.2.0 in /usr/local/lib/python3.11/dist-packages (from rich>=10.11.0->typer<1.0.0,>=0.3.0->spacy) (3.0.0)\n",
            "Requirement already satisfied: pygments<3.0.0,>=2.13.0 in /usr/local/lib/python3.11/dist-packages (from rich>=10.11.0->typer<1.0.0,>=0.3.0->spacy) (2.18.0)\n",
            "Requirement already satisfied: wrapt in /usr/local/lib/python3.11/dist-packages (from smart-open<8.0.0,>=5.2.1->weasel<0.5.0,>=0.1.0->spacy) (1.17.2)\n",
            "Requirement already satisfied: mdurl~=0.1 in /usr/local/lib/python3.11/dist-packages (from markdown-it-py>=2.2.0->rich>=10.11.0->typer<1.0.0,>=0.3.0->spacy) (0.1.2)\n"
          ]
        }
      ],
      "source": [
        "!pip install spacy\n",
        "# !pip install transformers torch\n",
        "# !pip install goatools"
      ]
    },
    {
      "cell_type": "code",
      "execution_count": 2,
      "metadata": {
        "colab": {
          "base_uri": "https://localhost:8080/"
        },
        "id": "UgyLKWJUln1G",
        "outputId": "e6e8cc9a-f02c-4ff9-a4d8-7d6a86bd9372"
      },
      "outputs": [
        {
          "output_type": "stream",
          "name": "stdout",
          "text": [
            "Mounted at /content/drive\n"
          ]
        }
      ],
      "source": [
        "from google.colab import drive\n",
        "drive.mount('/content/drive')"
      ]
    },
    {
      "cell_type": "code",
      "execution_count": 1,
      "metadata": {
        "id": "UWSHSonXlTeG"
      },
      "outputs": [],
      "source": [
        "# packages\n",
        "import torch\n",
        "from transformers import AutoModelForCausalLM, AutoTokenizer, BitsAndBytesConfig, AutoModelForTokenClassification\n",
        "\n",
        "# from goatools import obo_parser"
      ]
    },
    {
      "cell_type": "markdown",
      "metadata": {
        "id": "dZi36hlqlTeH"
      },
      "source": [
        "### 1. download the obo file from the gene ontology consortium https://current.geneontology.org/products/pages/downloads.html"
      ]
    },
    {
      "cell_type": "code",
      "execution_count": 3,
      "metadata": {
        "colab": {
          "base_uri": "https://localhost:8080/"
        },
        "id": "rg76q6KYlTeI",
        "outputId": "4a5f871e-afbd-43cb-fe3a-0f1a4d04710e"
      },
      "outputs": [
        {
          "output_type": "stream",
          "name": "stdout",
          "text": [
            "Loading Gene Ontology database...\n",
            "INSULIN NOT found in GO annotations!\n"
          ]
        }
      ],
      "source": [
        "print(\"Loading Gene Ontology database...\")\n",
        "GO_OBO_FILE = \"/content/drive/MyDrive/goa_human.gaf\"    # DESTINATION OF THE GO OBO FILE\n",
        "# go_dag = obo_parser.GODag(GO_OBO_FILE)\n",
        "\n",
        "def load_human_go_annotations(filepath=GO_OBO_FILE):\n",
        "    \"\"\"Load human-specific GO annotations from the GOA database\"\"\"\n",
        "    go_annotations = {}\n",
        "\n",
        "    with open(filepath, \"r\") as f:\n",
        "        for line in f:\n",
        "            if line.startswith(\"!\"):  # Ignore header lines\n",
        "                continue\n",
        "\n",
        "            columns = line.strip().split(\"\\t\")\n",
        "            if len(columns) < 9:\n",
        "                continue  # Ensure we have enough columns\n",
        "\n",
        "            gene_name = columns[2]  # DB_Object_Symbol (gene name)\n",
        "            go_id = columns[4]  # GO term\n",
        "            qualifier = columns[3]  # Relationship (enables, involved_in, etc.)\n",
        "            aspect = columns[8]  # BP, MF, or CC\n",
        "\n",
        "            if gene_name not in go_annotations:\n",
        "                go_annotations[gene_name] = {\"BP\": [], \"MF\": [], \"CC\": []}\n",
        "\n",
        "            if aspect == \"P\":\n",
        "                go_annotations[gene_name][\"BP\"].append((go_id, qualifier))\n",
        "            elif aspect == \"F\":\n",
        "                go_annotations[gene_name][\"MF\"].append((go_id, qualifier))\n",
        "            elif aspect == \"C\":\n",
        "                go_annotations[gene_name][\"CC\"].append((go_id, qualifier))\n",
        "\n",
        "    return go_annotations\n",
        "\n",
        "# Load species-specific GO annotations\n",
        "human_go_annotations = load_human_go_annotations()\n",
        "\n",
        "# Check if insulin is in the dataset\n",
        "if \"INSULIN\" in human_go_annotations:\n",
        "    print(\"Found INSULIN in GO annotations!\")\n",
        "else:\n",
        "    print(\"INSULIN NOT found in GO annotations!\")\n",
        "\n"
      ]
    },
    {
      "cell_type": "markdown",
      "metadata": {
        "id": "4e_Jt2T5lTeJ"
      },
      "source": [
        "### 2. Use pip to install the ner model\n",
        "- got it from https://s3-us-west-2.amazonaws.com/ai2-s2-scispacy\n",
        "- github page: https://github.com/allenai/scispacy"
      ]
    },
    {
      "cell_type": "code",
      "execution_count": 10,
      "metadata": {
        "colab": {
          "base_uri": "https://localhost:8080/"
        },
        "id": "PNUlSJghlTeJ",
        "outputId": "b8357e8d-be91-4068-bc8f-f925133fdd7c"
      },
      "outputs": [
        {
          "output_type": "stream",
          "name": "stdout",
          "text": [
            "Collecting https://s3-us-west-2.amazonaws.com/ai2-s2-scispacy/releases/v0.5.4/en_ner_jnlpba_md-0.5.4.tar.gz\n",
            "  Using cached https://s3-us-west-2.amazonaws.com/ai2-s2-scispacy/releases/v0.5.4/en_ner_jnlpba_md-0.5.4.tar.gz (119.8 MB)\n",
            "  Preparing metadata (setup.py) ... \u001b[?25l\u001b[?25hdone\n",
            "Requirement already satisfied: spacy<3.8.0,>=3.7.4 in /usr/local/lib/python3.11/dist-packages (from en_ner_jnlpba_md==0.5.4) (3.7.5)\n",
            "Requirement already satisfied: spacy-legacy<3.1.0,>=3.0.11 in /usr/local/lib/python3.11/dist-packages (from spacy<3.8.0,>=3.7.4->en_ner_jnlpba_md==0.5.4) (3.0.12)\n",
            "Requirement already satisfied: spacy-loggers<2.0.0,>=1.0.0 in /usr/local/lib/python3.11/dist-packages (from spacy<3.8.0,>=3.7.4->en_ner_jnlpba_md==0.5.4) (1.0.5)\n",
            "Requirement already satisfied: murmurhash<1.1.0,>=0.28.0 in /usr/local/lib/python3.11/dist-packages (from spacy<3.8.0,>=3.7.4->en_ner_jnlpba_md==0.5.4) (1.0.12)\n",
            "Requirement already satisfied: cymem<2.1.0,>=2.0.2 in /usr/local/lib/python3.11/dist-packages (from spacy<3.8.0,>=3.7.4->en_ner_jnlpba_md==0.5.4) (2.0.11)\n",
            "Requirement already satisfied: preshed<3.1.0,>=3.0.2 in /usr/local/lib/python3.11/dist-packages (from spacy<3.8.0,>=3.7.4->en_ner_jnlpba_md==0.5.4) (3.0.9)\n",
            "Requirement already satisfied: thinc<8.3.0,>=8.2.2 in /usr/local/lib/python3.11/dist-packages (from spacy<3.8.0,>=3.7.4->en_ner_jnlpba_md==0.5.4) (8.2.5)\n",
            "Requirement already satisfied: wasabi<1.2.0,>=0.9.1 in /usr/local/lib/python3.11/dist-packages (from spacy<3.8.0,>=3.7.4->en_ner_jnlpba_md==0.5.4) (1.1.3)\n",
            "Requirement already satisfied: srsly<3.0.0,>=2.4.3 in /usr/local/lib/python3.11/dist-packages (from spacy<3.8.0,>=3.7.4->en_ner_jnlpba_md==0.5.4) (2.5.1)\n",
            "Requirement already satisfied: catalogue<2.1.0,>=2.0.6 in /usr/local/lib/python3.11/dist-packages (from spacy<3.8.0,>=3.7.4->en_ner_jnlpba_md==0.5.4) (2.0.10)\n",
            "Requirement already satisfied: weasel<0.5.0,>=0.1.0 in /usr/local/lib/python3.11/dist-packages (from spacy<3.8.0,>=3.7.4->en_ner_jnlpba_md==0.5.4) (0.4.1)\n",
            "Requirement already satisfied: typer<1.0.0,>=0.3.0 in /usr/local/lib/python3.11/dist-packages (from spacy<3.8.0,>=3.7.4->en_ner_jnlpba_md==0.5.4) (0.15.1)\n",
            "Requirement already satisfied: tqdm<5.0.0,>=4.38.0 in /usr/local/lib/python3.11/dist-packages (from spacy<3.8.0,>=3.7.4->en_ner_jnlpba_md==0.5.4) (4.67.1)\n",
            "Requirement already satisfied: requests<3.0.0,>=2.13.0 in /usr/local/lib/python3.11/dist-packages (from spacy<3.8.0,>=3.7.4->en_ner_jnlpba_md==0.5.4) (2.32.3)\n",
            "Requirement already satisfied: pydantic!=1.8,!=1.8.1,<3.0.0,>=1.7.4 in /usr/local/lib/python3.11/dist-packages (from spacy<3.8.0,>=3.7.4->en_ner_jnlpba_md==0.5.4) (2.10.6)\n",
            "Requirement already satisfied: jinja2 in /usr/local/lib/python3.11/dist-packages (from spacy<3.8.0,>=3.7.4->en_ner_jnlpba_md==0.5.4) (3.1.5)\n",
            "Requirement already satisfied: setuptools in /usr/local/lib/python3.11/dist-packages (from spacy<3.8.0,>=3.7.4->en_ner_jnlpba_md==0.5.4) (75.1.0)\n",
            "Requirement already satisfied: packaging>=20.0 in /usr/local/lib/python3.11/dist-packages (from spacy<3.8.0,>=3.7.4->en_ner_jnlpba_md==0.5.4) (24.2)\n",
            "Requirement already satisfied: langcodes<4.0.0,>=3.2.0 in /usr/local/lib/python3.11/dist-packages (from spacy<3.8.0,>=3.7.4->en_ner_jnlpba_md==0.5.4) (3.5.0)\n",
            "Requirement already satisfied: numpy>=1.19.0 in /usr/local/lib/python3.11/dist-packages (from spacy<3.8.0,>=3.7.4->en_ner_jnlpba_md==0.5.4) (1.26.4)\n",
            "Requirement already satisfied: language-data>=1.2 in /usr/local/lib/python3.11/dist-packages (from langcodes<4.0.0,>=3.2.0->spacy<3.8.0,>=3.7.4->en_ner_jnlpba_md==0.5.4) (1.3.0)\n",
            "Requirement already satisfied: annotated-types>=0.6.0 in /usr/local/lib/python3.11/dist-packages (from pydantic!=1.8,!=1.8.1,<3.0.0,>=1.7.4->spacy<3.8.0,>=3.7.4->en_ner_jnlpba_md==0.5.4) (0.7.0)\n",
            "Requirement already satisfied: pydantic-core==2.27.2 in /usr/local/lib/python3.11/dist-packages (from pydantic!=1.8,!=1.8.1,<3.0.0,>=1.7.4->spacy<3.8.0,>=3.7.4->en_ner_jnlpba_md==0.5.4) (2.27.2)\n",
            "Requirement already satisfied: typing-extensions>=4.12.2 in /usr/local/lib/python3.11/dist-packages (from pydantic!=1.8,!=1.8.1,<3.0.0,>=1.7.4->spacy<3.8.0,>=3.7.4->en_ner_jnlpba_md==0.5.4) (4.12.2)\n",
            "Requirement already satisfied: charset-normalizer<4,>=2 in /usr/local/lib/python3.11/dist-packages (from requests<3.0.0,>=2.13.0->spacy<3.8.0,>=3.7.4->en_ner_jnlpba_md==0.5.4) (3.4.1)\n",
            "Requirement already satisfied: idna<4,>=2.5 in /usr/local/lib/python3.11/dist-packages (from requests<3.0.0,>=2.13.0->spacy<3.8.0,>=3.7.4->en_ner_jnlpba_md==0.5.4) (3.10)\n",
            "Requirement already satisfied: urllib3<3,>=1.21.1 in /usr/local/lib/python3.11/dist-packages (from requests<3.0.0,>=2.13.0->spacy<3.8.0,>=3.7.4->en_ner_jnlpba_md==0.5.4) (2.3.0)\n",
            "Requirement already satisfied: certifi>=2017.4.17 in /usr/local/lib/python3.11/dist-packages (from requests<3.0.0,>=2.13.0->spacy<3.8.0,>=3.7.4->en_ner_jnlpba_md==0.5.4) (2025.1.31)\n",
            "Requirement already satisfied: blis<0.8.0,>=0.7.8 in /usr/local/lib/python3.11/dist-packages (from thinc<8.3.0,>=8.2.2->spacy<3.8.0,>=3.7.4->en_ner_jnlpba_md==0.5.4) (0.7.11)\n",
            "Requirement already satisfied: confection<1.0.0,>=0.0.1 in /usr/local/lib/python3.11/dist-packages (from thinc<8.3.0,>=8.2.2->spacy<3.8.0,>=3.7.4->en_ner_jnlpba_md==0.5.4) (0.1.5)\n",
            "Requirement already satisfied: click>=8.0.0 in /usr/local/lib/python3.11/dist-packages (from typer<1.0.0,>=0.3.0->spacy<3.8.0,>=3.7.4->en_ner_jnlpba_md==0.5.4) (8.1.8)\n",
            "Requirement already satisfied: shellingham>=1.3.0 in /usr/local/lib/python3.11/dist-packages (from typer<1.0.0,>=0.3.0->spacy<3.8.0,>=3.7.4->en_ner_jnlpba_md==0.5.4) (1.5.4)\n",
            "Requirement already satisfied: rich>=10.11.0 in /usr/local/lib/python3.11/dist-packages (from typer<1.0.0,>=0.3.0->spacy<3.8.0,>=3.7.4->en_ner_jnlpba_md==0.5.4) (13.9.4)\n",
            "Requirement already satisfied: cloudpathlib<1.0.0,>=0.7.0 in /usr/local/lib/python3.11/dist-packages (from weasel<0.5.0,>=0.1.0->spacy<3.8.0,>=3.7.4->en_ner_jnlpba_md==0.5.4) (0.20.0)\n",
            "Requirement already satisfied: smart-open<8.0.0,>=5.2.1 in /usr/local/lib/python3.11/dist-packages (from weasel<0.5.0,>=0.1.0->spacy<3.8.0,>=3.7.4->en_ner_jnlpba_md==0.5.4) (7.1.0)\n",
            "Requirement already satisfied: MarkupSafe>=2.0 in /usr/local/lib/python3.11/dist-packages (from jinja2->spacy<3.8.0,>=3.7.4->en_ner_jnlpba_md==0.5.4) (3.0.2)\n",
            "Requirement already satisfied: marisa-trie>=1.1.0 in /usr/local/lib/python3.11/dist-packages (from language-data>=1.2->langcodes<4.0.0,>=3.2.0->spacy<3.8.0,>=3.7.4->en_ner_jnlpba_md==0.5.4) (1.2.1)\n",
            "Requirement already satisfied: markdown-it-py>=2.2.0 in /usr/local/lib/python3.11/dist-packages (from rich>=10.11.0->typer<1.0.0,>=0.3.0->spacy<3.8.0,>=3.7.4->en_ner_jnlpba_md==0.5.4) (3.0.0)\n",
            "Requirement already satisfied: pygments<3.0.0,>=2.13.0 in /usr/local/lib/python3.11/dist-packages (from rich>=10.11.0->typer<1.0.0,>=0.3.0->spacy<3.8.0,>=3.7.4->en_ner_jnlpba_md==0.5.4) (2.18.0)\n",
            "Requirement already satisfied: wrapt in /usr/local/lib/python3.11/dist-packages (from smart-open<8.0.0,>=5.2.1->weasel<0.5.0,>=0.1.0->spacy<3.8.0,>=3.7.4->en_ner_jnlpba_md==0.5.4) (1.17.2)\n",
            "Requirement already satisfied: mdurl~=0.1 in /usr/local/lib/python3.11/dist-packages (from markdown-it-py>=2.2.0->rich>=10.11.0->typer<1.0.0,>=0.3.0->spacy<3.8.0,>=3.7.4->en_ner_jnlpba_md==0.5.4) (0.1.2)\n",
            "Loading biomedical NLP model...\n"
          ]
        },
        {
          "output_type": "stream",
          "name": "stderr",
          "text": [
            "/usr/local/lib/python3.11/dist-packages/spacy/language.py:2195: FutureWarning: Possible set union at position 6328\n",
            "  deserializers[\"tokenizer\"] = lambda p: self.tokenizer.from_disk(  # type: ignore[union-attr]\n"
          ]
        }
      ],
      "source": [
        "!pip install https://s3-us-west-2.amazonaws.com/ai2-s2-scispacy/releases/v0.5.4/en_ner_jnlpba_md-0.5.4.tar.gz\n",
        "import spacy\n",
        "print(\"Loading biomedical NLP model...\")\n",
        "nlp = spacy.load(\"en_ner_jnlpba_md\")  # Scientific/biomedical entity recognition\n",
        "\n",
        "# Load BioBERT model and tokenizer (set a distinct name for BioBERT)\n",
        "# from transformers import BertTokenizer, BertForTokenClassification\n",
        "\n",
        "# # Load the fine-tuned model and tokenizer\n",
        "# biobert_model = BertForTokenClassification.from_pretrained('/content/drive/MyDrive/fine_tuned_biobert')\n",
        "# biobert_tokenizer = BertTokenizer.from_pretrained('/content/drive/MyDrive/fine_tuned_biobert')\n",
        "\n",
        "# print(\"BioBERT model loaded!\")"
      ]
    },
    {
      "cell_type": "markdown",
      "metadata": {
        "id": "K-deaJyqlTeK"
      },
      "source": [
        "### load the tokenizer and the model and put it to cuda"
      ]
    },
    {
      "cell_type": "code",
      "execution_count": 4,
      "metadata": {
        "colab": {
          "base_uri": "https://localhost:8080/",
          "height": 84,
          "referenced_widgets": [
            "d9c422aab07a43a7bb28c7cb76707816",
            "346fc1834d21451ea09bbf2b879003ed",
            "94c922e764bf4aaab4dd5b509a2908a6",
            "fdd9de16338f4ab0bb0cc12e0de3979e",
            "04d2a281f0954672ae76fa6a2e869436",
            "7c554c4e0184433f8d2b4b8860f77af1",
            "634211caf2bf4de1b5d21d29051aef4f",
            "c8b9b776139b4b4b8d89c347299391ed",
            "1d09e1ce52b5428e9251d24f2a32c3a8",
            "dfe2002a1f504f3e9f18f70a784acf4e",
            "9632222e01374581b3ad776842060a1c"
          ]
        },
        "id": "WgShKztdlTeK",
        "outputId": "a06867ab-d626-49d4-a997-bd7176bcfc10"
      },
      "outputs": [
        {
          "output_type": "stream",
          "name": "stdout",
          "text": [
            "Loading LLaMA model.\n",
            "True\n"
          ]
        },
        {
          "output_type": "display_data",
          "data": {
            "text/plain": [
              "Loading checkpoint shards:   0%|          | 0/3 [00:00<?, ?it/s]"
            ],
            "application/vnd.jupyter.widget-view+json": {
              "version_major": 2,
              "version_minor": 0,
              "model_id": "d9c422aab07a43a7bb28c7cb76707816"
            }
          },
          "metadata": {}
        }
      ],
      "source": [
        "print(\"Loading LLaMA model.\")\n",
        "model_dir = \"/content/drive/MyDrive/Llama 3.2-3B-Instruct-model\"\n",
        "device = torch.device(\"cuda\")\n",
        "tokenizer = AutoTokenizer.from_pretrained(model_dir, local_files_only=True)\n",
        "import torch\n",
        "print(torch.cuda.is_available())\n",
        "\n",
        "model = AutoModelForCausalLM.from_pretrained(model_dir, local_files_only=True).to(device)\n"
      ]
    },
    {
      "cell_type": "code",
      "execution_count": null,
      "metadata": {
        "colab": {
          "base_uri": "https://localhost:8080/"
        },
        "id": "C9KlaaAnlTeM",
        "outputId": "48994d14-a840-460d-e594-542a935ac709"
      },
      "outputs": [
        {
          "output_type": "stream",
          "name": "stderr",
          "text": [
            "/usr/local/lib/python3.11/dist-packages/sklearn/base.py:380: InconsistentVersionWarning: Trying to unpickle estimator TfidfTransformer from version 1.1.2 when using version 1.6.1. This might lead to breaking code or invalid results. Use at your own risk. For more info please refer to:\n",
            "https://scikit-learn.org/stable/model_persistence.html#security-maintainability-limitations\n",
            "  warnings.warn(\n",
            "/usr/local/lib/python3.11/dist-packages/sklearn/base.py:380: InconsistentVersionWarning: Trying to unpickle estimator TfidfVectorizer from version 1.1.2 when using version 1.6.1. This might lead to breaking code or invalid results. Use at your own risk. For more info please refer to:\n",
            "https://scikit-learn.org/stable/model_persistence.html#security-maintainability-limitations\n",
            "  warnings.warn(\n"
          ]
        }
      ],
      "source": [
        "# import scispacy\n",
        "# from scispacy.linking import EntityLinker\n",
        "\n",
        "# # Load the UMLS Entity Linker (can also use \"EntrezGene\" for genes)\n",
        "# linker = EntityLinker(name=\"umls\")\n",
        "\n",
        "# nlp.add_pipe(\"scispacy_linker\", config={\"resolve_abbreviations\": True})\n",
        "\n",
        "# def get_standardized_gene_name(entity):\n",
        "#     \"\"\"Use SciSpacy's entity linker to find the standard gene name.\"\"\"\n",
        "#     if entity._.kb_ents:\n",
        "#         first_match = entity._.kb_ents[0]\n",
        "#         matched_id = first_match[0]  # UMLS or EntrezGene ID\n",
        "#         matched_name = linker.kb.cui_to_entity[matched_id].canonical_name\n",
        "#         return matched_name\n",
        "#     return entity.text  # Fallback: Use original text if no match is found"
      ]
    },
    {
      "cell_type": "code",
      "source": [
        "def analyze_article(article_text: str) -> dict:\n",
        "    \"\"\"Process article text and infer Gene Ontology terms\"\"\"\n",
        "\n",
        "    # Step 1: Extract genes/proteins using SciSpacy\n",
        "    doc = nlp(article_text)\n",
        "\n",
        "    detected_genes = {}\n",
        "    genes = list({ent.text for ent in doc.ents\n",
        "                if ent.label_ in [\"GENE\", \"PROTEIN\"]})\n",
        "\n",
        "    print(f\"Detected entities: {genes}\")  # Debugging entity extraction\n",
        "\n",
        "    # Ensure function always returns a dictionary with expected keys\n",
        "    if not genes:\n",
        "        return {\"genes\": [], \"result_text\": \"\"}\n",
        "\n",
        "    # Step 3: Build structured prompt\n",
        "    prompt = f\"\"\"You are an expert biomedical researcher. Analyze this biomedical article and extract Gene Ontology (GO) terms.\n",
        "\n",
        "    Article excerpt:\n",
        "    {article_text[:3000]}... [truncated]\n",
        "\n",
        "    Detected entities: {', '.join(genes)}\n",
        "\n",
        "    [OUTPUT FORMAT]\n",
        "    Return **ONLY** GO terms in this structured format:\n",
        "    - BP: GO:####### (Biological Process Name)\n",
        "    - MF: GO:####### (Molecular Function Name)\n",
        "    - CC: GO:####### (Cellular Component Name)\n",
        "\n",
        "    Example Output:\n",
        "    - BP: GO:0006006 (glucose metabolic process)\n",
        "    - MF: GO:0005543 (insulin receptor binding)\n",
        "    - CC: GO:0005886 (plasma membrane)\n",
        "    \"\"\"\n",
        "\n",
        "\n",
        "    # Step 4: Generate predictions\n",
        "    inputs = tokenizer(prompt, return_tensors=\"pt\").to(\"cuda\")\n",
        "\n",
        "    outputs = model.generate(\n",
        "        **inputs,\n",
        "        max_new_tokens=512,\n",
        "        temperature=0.1,\n",
        "        top_p=0.95,\n",
        "        pad_token_id=tokenizer.eos_token_id\n",
        "    )\n",
        "\n",
        "    # Step 5: Process and validate results\n",
        "    generated_text = tokenizer.decode(outputs[0], skip_special_tokens=True)\n",
        "    result_text = generated_text[len(prompt):].strip()\n",
        "\n",
        "    print(f\"\\nGenerated GO Terms:\\n{result_text}\")  # Debugging LLM output\n",
        "\n",
        "    return {\"genes\": genes, \"result_text\": result_text}"
      ],
      "metadata": {
        "id": "CE_2RgBjB_5I"
      },
      "execution_count": 15,
      "outputs": []
    },
    {
      "cell_type": "code",
      "source": [
        "import re  # Import regex for better parsing\n",
        "\n",
        "def remove_duplicates(go_terms):\n",
        "    \"\"\"Remove duplicate GO terms while preserving order\"\"\"\n",
        "    seen = set()\n",
        "    unique_terms = []\n",
        "    for term in go_terms:\n",
        "        if term not in seen:\n",
        "            seen.add(term)\n",
        "            unique_terms.append(term)\n",
        "    return unique_terms\n",
        "\n",
        "def parse_and_validate_results(result_text, genes):\n",
        "    \"\"\"Validate generated GO annotations against GO database\"\"\"\n",
        "\n",
        "    # Detect broken output\n",
        "    if \"[IMPORTANT]\" in result_text or \"Please provide\" in result_text:\n",
        "        print(\"⚠️ Warning: The model failed to generate GO terms correctly.\")\n",
        "        return {gene: {\"BP\": [], \"MF\": [], \"CC\": []} for gene in genes}\n",
        "\n",
        "    validated_results = {gene: {\"BP\": [], \"MF\": [], \"CC\": []} for gene in genes}\n",
        "\n",
        "    bp_terms = re.findall(r\"BP:\\s*(GO:\\d+ \\(.+?\\))\", result_text)\n",
        "    mf_terms = re.findall(r\"MF:\\s*(GO:\\d+ \\(.+?\\))\", result_text)\n",
        "    cc_terms = re.findall(r\"CC:\\s*(GO:\\d+ \\(.+?\\))\", result_text)\n",
        "\n",
        "    for gene in genes:\n",
        "        validated_results[gene][\"BP\"] = remove_duplicates(bp_terms)\n",
        "        validated_results[gene][\"MF\"] = remove_duplicates(mf_terms)\n",
        "        validated_results[gene][\"CC\"] = remove_duplicates(cc_terms)\n",
        "\n",
        "    print(f\"\\n✅ Parsed GO terms for {genes}: {validated_results}\")  # Debugging\n",
        "\n",
        "    return validated_results\n",
        "\n",
        "\n",
        "\n",
        "# ----------------------------\n",
        "# Test with the sample article\n",
        "# ----------------------------\n",
        "sample_article = \"insulin is a hormone that regulates blood sugar levels\"\n",
        "print(\"\\nAnalyzing sample article...\")\n",
        "analysis = analyze_article(sample_article)\n",
        "\n",
        "if not analysis[\"genes\"]:  # Ensure genes exist before proceeding\n",
        "    print(\"No genes/proteins detected.\")\n",
        "else:\n",
        "    genes = analysis[\"genes\"]\n",
        "    result_text = analysis[\"result_text\"]\n",
        "\n",
        "    print(\"\\nResults:\")\n",
        "    print(parse_and_validate_results(result_text, genes))\n"
      ],
      "metadata": {
        "id": "sD4nZixX0BJf",
        "colab": {
          "base_uri": "https://localhost:8080/"
        },
        "outputId": "d66bb433-6eec-4c86-c2e2-79f65885b448"
      },
      "execution_count": 16,
      "outputs": [
        {
          "output_type": "stream",
          "name": "stdout",
          "text": [
            "\n",
            "Analyzing sample article...\n",
            "Detected entities: ['insulin']\n",
            "\n",
            "Generated GO Terms:\n",
            "GO terms extracted from the article excerpt:\n",
            "    - BP: GO:0008150 (carbohydrate metabolic process)\n",
            "    - MF: GO:0005518 (protein binding)\n",
            "    - CC: GO:0005886 (plasma membrane)\n",
            "    - BP: GO:0006006 (glucose metabolic process)\n",
            "    - MF: GO:0005543 (insulin receptor binding)\n",
            "    - MF: GO:0005519 (insulin binding)\n",
            "    - CC: GO:0009611 (extracellular space)\n",
            "    - MF: GO:0005515 (transmembrane receptor activity)\n",
            "    - MF: GO:0005516 (transmembrane receptor activity)\n",
            "    - MF: GO:0005517 (receptor activity)\n",
            "    - BP: GO:0008152 (glucose-6-phosphate metabolic process)\n",
            "    - MF: GO:0005518 (protein binding)\n",
            "    - MF: GO:0005519 (insulin binding)\n",
            "    - MF: GO:0005515 (transmembrane receptor activity)\n",
            "    - MF: GO:0005516 (transmembrane receptor activity)\n",
            "    - MF: GO:0005517 (receptor activity)\n",
            "    - BP: GO:0008150 (carbohydrate metabolic process)\n",
            "    - MF: GO:0005543 (insulin receptor binding)\n",
            "    - MF: GO:0005518 (protein binding)\n",
            "    - MF: GO:0005519 (insulin binding)\n",
            "    - MF: GO:0005515 (transmembrane receptor activity)\n",
            "    - MF: GO:0005516 (transmembrane receptor activity)\n",
            "    - MF: GO:0005517 (receptor activity)\n",
            "    - BP: GO:0006006 (glucose metabolic process)\n",
            "    - MF: GO:0005543 (insulin receptor binding)\n",
            "    - MF: GO:0005518 (protein binding)\n",
            "    - MF: GO:0005519 (insulin binding)\n",
            "    - MF: GO:0005515 (transmembrane receptor activity)\n",
            "    - MF: GO:0005516 (transmembrane receptor activity)\n",
            "    - MF: GO:0005517 (receptor activity)\n",
            "    - BP: GO:0008152 (glucose-6-phosphate metabolic process)\n",
            "    - MF: GO:0005543 (insulin receptor binding)\n",
            "    - MF: GO:0005518 (protein binding)\n",
            "    - MF: GO:0005519\n",
            "\n",
            "Results:\n",
            "\n",
            "✅ Parsed GO terms for ['insulin']: {'insulin': {'BP': ['GO:0008150 (carbohydrate metabolic process)', 'GO:0006006 (glucose metabolic process)', 'GO:0008152 (glucose-6-phosphate metabolic process)'], 'MF': ['GO:0005518 (protein binding)', 'GO:0005543 (insulin receptor binding)', 'GO:0005519 (insulin binding)', 'GO:0005515 (transmembrane receptor activity)', 'GO:0005516 (transmembrane receptor activity)', 'GO:0005517 (receptor activity)'], 'CC': ['GO:0005886 (plasma membrane)', 'GO:0009611 (extracellular space)']}}\n",
            "{'insulin': {'BP': ['GO:0008150 (carbohydrate metabolic process)', 'GO:0006006 (glucose metabolic process)', 'GO:0008152 (glucose-6-phosphate metabolic process)'], 'MF': ['GO:0005518 (protein binding)', 'GO:0005543 (insulin receptor binding)', 'GO:0005519 (insulin binding)', 'GO:0005515 (transmembrane receptor activity)', 'GO:0005516 (transmembrane receptor activity)', 'GO:0005517 (receptor activity)'], 'CC': ['GO:0005886 (plasma membrane)', 'GO:0009611 (extracellular space)']}}\n"
          ]
        }
      ]
    }
  ],
  "metadata": {
    "accelerator": "GPU",
    "colab": {
      "gpuType": "T4",
      "provenance": []
    },
    "kernelspec": {
      "display_name": "Python 3",
      "name": "python3"
    },
    "language_info": {
      "codemirror_mode": {
        "name": "ipython",
        "version": 3
      },
      "file_extension": ".py",
      "mimetype": "text/x-python",
      "name": "python",
      "nbconvert_exporter": "python",
      "pygments_lexer": "ipython3",
      "version": "3.10.6"
    },
    "widgets": {
      "application/vnd.jupyter.widget-state+json": {
        "d9c422aab07a43a7bb28c7cb76707816": {
          "model_module": "@jupyter-widgets/controls",
          "model_name": "HBoxModel",
          "model_module_version": "1.5.0",
          "state": {
            "_dom_classes": [],
            "_model_module": "@jupyter-widgets/controls",
            "_model_module_version": "1.5.0",
            "_model_name": "HBoxModel",
            "_view_count": null,
            "_view_module": "@jupyter-widgets/controls",
            "_view_module_version": "1.5.0",
            "_view_name": "HBoxView",
            "box_style": "",
            "children": [
              "IPY_MODEL_346fc1834d21451ea09bbf2b879003ed",
              "IPY_MODEL_94c922e764bf4aaab4dd5b509a2908a6",
              "IPY_MODEL_fdd9de16338f4ab0bb0cc12e0de3979e"
            ],
            "layout": "IPY_MODEL_04d2a281f0954672ae76fa6a2e869436"
          }
        },
        "346fc1834d21451ea09bbf2b879003ed": {
          "model_module": "@jupyter-widgets/controls",
          "model_name": "HTMLModel",
          "model_module_version": "1.5.0",
          "state": {
            "_dom_classes": [],
            "_model_module": "@jupyter-widgets/controls",
            "_model_module_version": "1.5.0",
            "_model_name": "HTMLModel",
            "_view_count": null,
            "_view_module": "@jupyter-widgets/controls",
            "_view_module_version": "1.5.0",
            "_view_name": "HTMLView",
            "description": "",
            "description_tooltip": null,
            "layout": "IPY_MODEL_7c554c4e0184433f8d2b4b8860f77af1",
            "placeholder": "​",
            "style": "IPY_MODEL_634211caf2bf4de1b5d21d29051aef4f",
            "value": "Loading checkpoint shards: 100%"
          }
        },
        "94c922e764bf4aaab4dd5b509a2908a6": {
          "model_module": "@jupyter-widgets/controls",
          "model_name": "FloatProgressModel",
          "model_module_version": "1.5.0",
          "state": {
            "_dom_classes": [],
            "_model_module": "@jupyter-widgets/controls",
            "_model_module_version": "1.5.0",
            "_model_name": "FloatProgressModel",
            "_view_count": null,
            "_view_module": "@jupyter-widgets/controls",
            "_view_module_version": "1.5.0",
            "_view_name": "ProgressView",
            "bar_style": "success",
            "description": "",
            "description_tooltip": null,
            "layout": "IPY_MODEL_c8b9b776139b4b4b8d89c347299391ed",
            "max": 3,
            "min": 0,
            "orientation": "horizontal",
            "style": "IPY_MODEL_1d09e1ce52b5428e9251d24f2a32c3a8",
            "value": 3
          }
        },
        "fdd9de16338f4ab0bb0cc12e0de3979e": {
          "model_module": "@jupyter-widgets/controls",
          "model_name": "HTMLModel",
          "model_module_version": "1.5.0",
          "state": {
            "_dom_classes": [],
            "_model_module": "@jupyter-widgets/controls",
            "_model_module_version": "1.5.0",
            "_model_name": "HTMLModel",
            "_view_count": null,
            "_view_module": "@jupyter-widgets/controls",
            "_view_module_version": "1.5.0",
            "_view_name": "HTMLView",
            "description": "",
            "description_tooltip": null,
            "layout": "IPY_MODEL_dfe2002a1f504f3e9f18f70a784acf4e",
            "placeholder": "​",
            "style": "IPY_MODEL_9632222e01374581b3ad776842060a1c",
            "value": " 3/3 [02:09&lt;00:00, 43.63s/it]"
          }
        },
        "04d2a281f0954672ae76fa6a2e869436": {
          "model_module": "@jupyter-widgets/base",
          "model_name": "LayoutModel",
          "model_module_version": "1.2.0",
          "state": {
            "_model_module": "@jupyter-widgets/base",
            "_model_module_version": "1.2.0",
            "_model_name": "LayoutModel",
            "_view_count": null,
            "_view_module": "@jupyter-widgets/base",
            "_view_module_version": "1.2.0",
            "_view_name": "LayoutView",
            "align_content": null,
            "align_items": null,
            "align_self": null,
            "border": null,
            "bottom": null,
            "display": null,
            "flex": null,
            "flex_flow": null,
            "grid_area": null,
            "grid_auto_columns": null,
            "grid_auto_flow": null,
            "grid_auto_rows": null,
            "grid_column": null,
            "grid_gap": null,
            "grid_row": null,
            "grid_template_areas": null,
            "grid_template_columns": null,
            "grid_template_rows": null,
            "height": null,
            "justify_content": null,
            "justify_items": null,
            "left": null,
            "margin": null,
            "max_height": null,
            "max_width": null,
            "min_height": null,
            "min_width": null,
            "object_fit": null,
            "object_position": null,
            "order": null,
            "overflow": null,
            "overflow_x": null,
            "overflow_y": null,
            "padding": null,
            "right": null,
            "top": null,
            "visibility": null,
            "width": null
          }
        },
        "7c554c4e0184433f8d2b4b8860f77af1": {
          "model_module": "@jupyter-widgets/base",
          "model_name": "LayoutModel",
          "model_module_version": "1.2.0",
          "state": {
            "_model_module": "@jupyter-widgets/base",
            "_model_module_version": "1.2.0",
            "_model_name": "LayoutModel",
            "_view_count": null,
            "_view_module": "@jupyter-widgets/base",
            "_view_module_version": "1.2.0",
            "_view_name": "LayoutView",
            "align_content": null,
            "align_items": null,
            "align_self": null,
            "border": null,
            "bottom": null,
            "display": null,
            "flex": null,
            "flex_flow": null,
            "grid_area": null,
            "grid_auto_columns": null,
            "grid_auto_flow": null,
            "grid_auto_rows": null,
            "grid_column": null,
            "grid_gap": null,
            "grid_row": null,
            "grid_template_areas": null,
            "grid_template_columns": null,
            "grid_template_rows": null,
            "height": null,
            "justify_content": null,
            "justify_items": null,
            "left": null,
            "margin": null,
            "max_height": null,
            "max_width": null,
            "min_height": null,
            "min_width": null,
            "object_fit": null,
            "object_position": null,
            "order": null,
            "overflow": null,
            "overflow_x": null,
            "overflow_y": null,
            "padding": null,
            "right": null,
            "top": null,
            "visibility": null,
            "width": null
          }
        },
        "634211caf2bf4de1b5d21d29051aef4f": {
          "model_module": "@jupyter-widgets/controls",
          "model_name": "DescriptionStyleModel",
          "model_module_version": "1.5.0",
          "state": {
            "_model_module": "@jupyter-widgets/controls",
            "_model_module_version": "1.5.0",
            "_model_name": "DescriptionStyleModel",
            "_view_count": null,
            "_view_module": "@jupyter-widgets/base",
            "_view_module_version": "1.2.0",
            "_view_name": "StyleView",
            "description_width": ""
          }
        },
        "c8b9b776139b4b4b8d89c347299391ed": {
          "model_module": "@jupyter-widgets/base",
          "model_name": "LayoutModel",
          "model_module_version": "1.2.0",
          "state": {
            "_model_module": "@jupyter-widgets/base",
            "_model_module_version": "1.2.0",
            "_model_name": "LayoutModel",
            "_view_count": null,
            "_view_module": "@jupyter-widgets/base",
            "_view_module_version": "1.2.0",
            "_view_name": "LayoutView",
            "align_content": null,
            "align_items": null,
            "align_self": null,
            "border": null,
            "bottom": null,
            "display": null,
            "flex": null,
            "flex_flow": null,
            "grid_area": null,
            "grid_auto_columns": null,
            "grid_auto_flow": null,
            "grid_auto_rows": null,
            "grid_column": null,
            "grid_gap": null,
            "grid_row": null,
            "grid_template_areas": null,
            "grid_template_columns": null,
            "grid_template_rows": null,
            "height": null,
            "justify_content": null,
            "justify_items": null,
            "left": null,
            "margin": null,
            "max_height": null,
            "max_width": null,
            "min_height": null,
            "min_width": null,
            "object_fit": null,
            "object_position": null,
            "order": null,
            "overflow": null,
            "overflow_x": null,
            "overflow_y": null,
            "padding": null,
            "right": null,
            "top": null,
            "visibility": null,
            "width": null
          }
        },
        "1d09e1ce52b5428e9251d24f2a32c3a8": {
          "model_module": "@jupyter-widgets/controls",
          "model_name": "ProgressStyleModel",
          "model_module_version": "1.5.0",
          "state": {
            "_model_module": "@jupyter-widgets/controls",
            "_model_module_version": "1.5.0",
            "_model_name": "ProgressStyleModel",
            "_view_count": null,
            "_view_module": "@jupyter-widgets/base",
            "_view_module_version": "1.2.0",
            "_view_name": "StyleView",
            "bar_color": null,
            "description_width": ""
          }
        },
        "dfe2002a1f504f3e9f18f70a784acf4e": {
          "model_module": "@jupyter-widgets/base",
          "model_name": "LayoutModel",
          "model_module_version": "1.2.0",
          "state": {
            "_model_module": "@jupyter-widgets/base",
            "_model_module_version": "1.2.0",
            "_model_name": "LayoutModel",
            "_view_count": null,
            "_view_module": "@jupyter-widgets/base",
            "_view_module_version": "1.2.0",
            "_view_name": "LayoutView",
            "align_content": null,
            "align_items": null,
            "align_self": null,
            "border": null,
            "bottom": null,
            "display": null,
            "flex": null,
            "flex_flow": null,
            "grid_area": null,
            "grid_auto_columns": null,
            "grid_auto_flow": null,
            "grid_auto_rows": null,
            "grid_column": null,
            "grid_gap": null,
            "grid_row": null,
            "grid_template_areas": null,
            "grid_template_columns": null,
            "grid_template_rows": null,
            "height": null,
            "justify_content": null,
            "justify_items": null,
            "left": null,
            "margin": null,
            "max_height": null,
            "max_width": null,
            "min_height": null,
            "min_width": null,
            "object_fit": null,
            "object_position": null,
            "order": null,
            "overflow": null,
            "overflow_x": null,
            "overflow_y": null,
            "padding": null,
            "right": null,
            "top": null,
            "visibility": null,
            "width": null
          }
        },
        "9632222e01374581b3ad776842060a1c": {
          "model_module": "@jupyter-widgets/controls",
          "model_name": "DescriptionStyleModel",
          "model_module_version": "1.5.0",
          "state": {
            "_model_module": "@jupyter-widgets/controls",
            "_model_module_version": "1.5.0",
            "_model_name": "DescriptionStyleModel",
            "_view_count": null,
            "_view_module": "@jupyter-widgets/base",
            "_view_module_version": "1.2.0",
            "_view_name": "StyleView",
            "description_width": ""
          }
        }
      }
    }
  },
  "nbformat": 4,
  "nbformat_minor": 0
}