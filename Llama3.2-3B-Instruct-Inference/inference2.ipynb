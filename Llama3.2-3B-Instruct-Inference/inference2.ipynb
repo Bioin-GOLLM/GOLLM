{
  "cells": [
    {
      "cell_type": "code",
      "execution_count": 1,
      "metadata": {
        "colab": {
          "base_uri": "https://localhost:8080/"
        },
        "id": "74CKLQNFlTeD",
        "outputId": "fba2c67f-b7a6-4600-987b-cae7c7063d3b"
      },
      "outputs": [
        {
          "name": "stdout",
          "output_type": "stream",
          "text": [
            "Collecting spacy\n",
            "  Downloading spacy-3.8.4-cp310-cp310-macosx_11_0_arm64.whl (6.3 MB)\n",
            "\u001b[2K     \u001b[90m━━━━━━━━━━━━━━━━━━━━━━━━━━━━━━━━━━━━━━━━\u001b[0m \u001b[32m6.3/6.3 MB\u001b[0m \u001b[31m10.7 MB/s\u001b[0m eta \u001b[36m0:00:00\u001b[0m00:01\u001b[0m00:01\u001b[0m\n",
            "\u001b[?25hRequirement already satisfied: packaging>=20.0 in /Users/crystalcho/.pyenv/versions/3.10.6/lib/python3.10/site-packages (from spacy) (24.2)\n",
            "Collecting spacy-loggers<2.0.0,>=1.0.0\n",
            "  Downloading spacy_loggers-1.0.5-py3-none-any.whl (22 kB)\n",
            "Requirement already satisfied: numpy>=1.19.0 in /Users/crystalcho/.pyenv/versions/3.10.6/lib/python3.10/site-packages (from spacy) (2.2.2)\n",
            "Collecting weasel<0.5.0,>=0.1.0\n",
            "  Downloading weasel-0.4.1-py3-none-any.whl (50 kB)\n",
            "\u001b[2K     \u001b[90m━━━━━━━━━━━━━━━━━━━━━━━━━━━━━━━━━━━━━━━━\u001b[0m \u001b[32m50.3/50.3 kB\u001b[0m \u001b[31m5.3 MB/s\u001b[0m eta \u001b[36m0:00:00\u001b[0m\n",
            "\u001b[?25hCollecting thinc<8.4.0,>=8.3.4\n",
            "  Downloading thinc-8.3.4-cp310-cp310-macosx_11_0_arm64.whl (779 kB)\n",
            "\u001b[2K     \u001b[90m━━━━━━━━━━━━━━━━━━━━━━━━━━━━━━━━━━━━━━\u001b[0m \u001b[32m779.4/779.4 kB\u001b[0m \u001b[31m15.4 MB/s\u001b[0m eta \u001b[36m0:00:00\u001b[0ma \u001b[36m0:00:01\u001b[0m\n",
            "\u001b[?25hCollecting catalogue<2.1.0,>=2.0.6\n",
            "  Downloading catalogue-2.0.10-py3-none-any.whl (17 kB)\n",
            "Collecting murmurhash<1.1.0,>=0.28.0\n",
            "  Downloading murmurhash-1.0.12-cp310-cp310-macosx_11_0_arm64.whl (26 kB)\n",
            "Collecting wasabi<1.2.0,>=0.9.1\n",
            "  Downloading wasabi-1.1.3-py3-none-any.whl (27 kB)\n",
            "Requirement already satisfied: tqdm<5.0.0,>=4.38.0 in /Users/crystalcho/.pyenv/versions/3.10.6/lib/python3.10/site-packages (from spacy) (4.67.1)\n",
            "Collecting typer<1.0.0,>=0.3.0\n",
            "  Downloading typer-0.15.1-py3-none-any.whl (44 kB)\n",
            "\u001b[2K     \u001b[90m━━━━━━━━━━━━━━━━━━━━━━━━━━━━━━━━━━━━━━━━\u001b[0m \u001b[32m44.9/44.9 kB\u001b[0m \u001b[31m6.8 MB/s\u001b[0m eta \u001b[36m0:00:00\u001b[0m\n",
            "\u001b[?25hCollecting spacy-legacy<3.1.0,>=3.0.11\n",
            "  Downloading spacy_legacy-3.0.12-py2.py3-none-any.whl (29 kB)\n",
            "Requirement already satisfied: setuptools in /Users/crystalcho/.pyenv/versions/3.10.6/lib/python3.10/site-packages (from spacy) (63.2.0)\n",
            "Collecting langcodes<4.0.0,>=3.2.0\n",
            "  Downloading langcodes-3.5.0-py3-none-any.whl (182 kB)\n",
            "\u001b[2K     \u001b[90m━━━━━━━━━━━━━━━━━━━━━━━━━━━━━━━━━━━━━━━\u001b[0m \u001b[32m183.0/183.0 kB\u001b[0m \u001b[31m9.7 MB/s\u001b[0m eta \u001b[36m0:00:00\u001b[0m\n",
            "\u001b[?25hCollecting cymem<2.1.0,>=2.0.2\n",
            "  Downloading cymem-2.0.11-cp310-cp310-macosx_11_0_arm64.whl (41 kB)\n",
            "\u001b[2K     \u001b[90m━━━━━━━━━━━━━━━━━━━━━━━━━━━━━━━━━━━━━━━━\u001b[0m \u001b[32m41.7/41.7 kB\u001b[0m \u001b[31m3.4 MB/s\u001b[0m eta \u001b[36m0:00:00\u001b[0m\n",
            "\u001b[?25hRequirement already satisfied: requests<3.0.0,>=2.13.0 in /Users/crystalcho/.pyenv/versions/3.10.6/lib/python3.10/site-packages (from spacy) (2.32.3)\n",
            "Collecting pydantic!=1.8,!=1.8.1,<3.0.0,>=1.7.4\n",
            "  Downloading pydantic-2.10.6-py3-none-any.whl (431 kB)\n",
            "\u001b[2K     \u001b[90m━━━━━━━━━━━━━━━━━━━━━━━━━━━━━━━━━━━━━━\u001b[0m \u001b[32m431.7/431.7 kB\u001b[0m \u001b[31m12.6 MB/s\u001b[0m eta \u001b[36m0:00:00\u001b[0m\n",
            "\u001b[?25hCollecting srsly<3.0.0,>=2.4.3\n",
            "  Downloading srsly-2.5.1-cp310-cp310-macosx_11_0_arm64.whl (634 kB)\n",
            "\u001b[2K     \u001b[90m━━━━━━━━━━━━━━━━━━━━━━━━━━━━━━━━━━━━━━\u001b[0m \u001b[32m634.4/634.4 kB\u001b[0m \u001b[31m14.3 MB/s\u001b[0m eta \u001b[36m0:00:00\u001b[0ma \u001b[36m0:00:01\u001b[0m\n",
            "\u001b[?25hRequirement already satisfied: jinja2 in /Users/crystalcho/.pyenv/versions/3.10.6/lib/python3.10/site-packages (from spacy) (3.1.5)\n",
            "Collecting preshed<3.1.0,>=3.0.2\n",
            "  Downloading preshed-3.0.9-cp310-cp310-macosx_11_0_arm64.whl (127 kB)\n",
            "\u001b[2K     \u001b[90m━━━━━━━━━━━━━━━━━━━━━━━━━━━━━━━━━━━━━━━\u001b[0m \u001b[32m127.8/127.8 kB\u001b[0m \u001b[31m7.9 MB/s\u001b[0m eta \u001b[36m0:00:00\u001b[0m\n",
            "\u001b[?25hCollecting language-data>=1.2\n",
            "  Downloading language_data-1.3.0-py3-none-any.whl (5.4 MB)\n",
            "\u001b[2K     \u001b[90m━━━━━━━━━━━━━━━━━━━━━━━━━━━━━━━━━━━━━━━━\u001b[0m \u001b[32m5.4/5.4 MB\u001b[0m \u001b[31m11.9 MB/s\u001b[0m eta \u001b[36m0:00:00\u001b[0ma \u001b[36m0:00:01\u001b[0m\n",
            "\u001b[?25hCollecting annotated-types>=0.6.0\n",
            "  Using cached annotated_types-0.7.0-py3-none-any.whl (13 kB)\n",
            "Requirement already satisfied: typing-extensions>=4.12.2 in /Users/crystalcho/.pyenv/versions/3.10.6/lib/python3.10/site-packages (from pydantic!=1.8,!=1.8.1,<3.0.0,>=1.7.4->spacy) (4.12.2)\n",
            "Collecting pydantic-core==2.27.2\n",
            "  Downloading pydantic_core-2.27.2-cp310-cp310-macosx_11_0_arm64.whl (1.8 MB)\n",
            "\u001b[2K     \u001b[90m━━━━━━━━━━━━━━━━━━━━━━━━━━━━━━━━━━━━━━━━\u001b[0m \u001b[32m1.8/1.8 MB\u001b[0m \u001b[31m7.5 MB/s\u001b[0m eta \u001b[36m0:00:00\u001b[0ma \u001b[36m0:00:01\u001b[0mm\n",
            "\u001b[?25hRequirement already satisfied: urllib3<3,>=1.21.1 in /Users/crystalcho/.pyenv/versions/3.10.6/lib/python3.10/site-packages (from requests<3.0.0,>=2.13.0->spacy) (2.3.0)\n",
            "Requirement already satisfied: certifi>=2017.4.17 in /Users/crystalcho/.pyenv/versions/3.10.6/lib/python3.10/site-packages (from requests<3.0.0,>=2.13.0->spacy) (2024.12.14)\n",
            "Requirement already satisfied: charset-normalizer<4,>=2 in /Users/crystalcho/.pyenv/versions/3.10.6/lib/python3.10/site-packages (from requests<3.0.0,>=2.13.0->spacy) (3.4.1)\n",
            "Requirement already satisfied: idna<4,>=2.5 in /Users/crystalcho/.pyenv/versions/3.10.6/lib/python3.10/site-packages (from requests<3.0.0,>=2.13.0->spacy) (3.10)\n",
            "Collecting confection<1.0.0,>=0.0.1\n",
            "  Downloading confection-0.1.5-py3-none-any.whl (35 kB)\n",
            "Collecting blis<1.3.0,>=1.2.0\n",
            "  Downloading blis-1.2.0-cp310-cp310-macosx_11_0_arm64.whl (1.3 MB)\n",
            "\u001b[2K     \u001b[90m━━━━━━━━━━━━━━━━━━━━━━━━━━━━━━━━━━━━━━━━\u001b[0m \u001b[32m1.3/1.3 MB\u001b[0m \u001b[31m15.2 MB/s\u001b[0m eta \u001b[36m0:00:00\u001b[0ma \u001b[36m0:00:01\u001b[0m\n",
            "\u001b[?25hCollecting shellingham>=1.3.0\n",
            "  Downloading shellingham-1.5.4-py2.py3-none-any.whl (9.8 kB)\n",
            "Collecting rich>=10.11.0\n",
            "  Downloading rich-13.9.4-py3-none-any.whl (242 kB)\n",
            "\u001b[2K     \u001b[90m━━━━━━━━━━━━━━━━━━━━━━━━━━━━━━━━━━━━━━\u001b[0m \u001b[32m242.4/242.4 kB\u001b[0m \u001b[31m11.4 MB/s\u001b[0m eta \u001b[36m0:00:00\u001b[0m\n",
            "\u001b[?25hCollecting click>=8.0.0\n",
            "  Downloading click-8.1.8-py3-none-any.whl (98 kB)\n",
            "\u001b[2K     \u001b[90m━━━━━━━━━━━━━━━━━━━━━━━━━━━━━━━━━━━━━━━━\u001b[0m \u001b[32m98.2/98.2 kB\u001b[0m \u001b[31m5.4 MB/s\u001b[0m eta \u001b[36m0:00:00\u001b[0m\n",
            "\u001b[?25hCollecting cloudpathlib<1.0.0,>=0.7.0\n",
            "  Downloading cloudpathlib-0.20.0-py3-none-any.whl (52 kB)\n",
            "\u001b[2K     \u001b[90m━━━━━━━━━━━━━━━━━━━━━━━━━━━━━━━━━━━━━━━━\u001b[0m \u001b[32m52.5/52.5 kB\u001b[0m \u001b[31m6.7 MB/s\u001b[0m eta \u001b[36m0:00:00\u001b[0m\n",
            "\u001b[?25hCollecting smart-open<8.0.0,>=5.2.1\n",
            "  Downloading smart_open-7.1.0-py3-none-any.whl (61 kB)\n",
            "\u001b[2K     \u001b[90m━━━━━━━━━━━━━━━━━━━━━━━━━━━━━━━━━━━━━━━━\u001b[0m \u001b[32m61.7/61.7 kB\u001b[0m \u001b[31m8.0 MB/s\u001b[0m eta \u001b[36m0:00:00\u001b[0m\n",
            "\u001b[?25hRequirement already satisfied: MarkupSafe>=2.0 in /Users/crystalcho/.pyenv/versions/3.10.6/lib/python3.10/site-packages (from jinja2->spacy) (3.0.2)\n",
            "Collecting marisa-trie>=1.1.0\n",
            "  Downloading marisa_trie-1.2.1-cp310-cp310-macosx_11_0_arm64.whl (174 kB)\n",
            "\u001b[2K     \u001b[90m━━━━━━━━━━━━━━━━━━━━━━━━━━━━━━━━━━━━━━\u001b[0m \u001b[32m174.7/174.7 kB\u001b[0m \u001b[31m14.7 MB/s\u001b[0m eta \u001b[36m0:00:00\u001b[0m\n",
            "\u001b[?25hRequirement already satisfied: pygments<3.0.0,>=2.13.0 in /Users/crystalcho/.pyenv/versions/3.10.6/lib/python3.10/site-packages (from rich>=10.11.0->typer<1.0.0,>=0.3.0->spacy) (2.19.1)\n",
            "Collecting markdown-it-py>=2.2.0\n",
            "  Using cached markdown_it_py-3.0.0-py3-none-any.whl (87 kB)\n",
            "Collecting wrapt\n",
            "  Downloading wrapt-1.17.2-cp310-cp310-macosx_11_0_arm64.whl (38 kB)\n",
            "Collecting mdurl~=0.1\n",
            "  Using cached mdurl-0.1.2-py3-none-any.whl (10.0 kB)\n",
            "Installing collected packages: cymem, wrapt, wasabi, spacy-loggers, spacy-legacy, shellingham, pydantic-core, murmurhash, mdurl, marisa-trie, cloudpathlib, click, catalogue, blis, annotated-types, srsly, smart-open, pydantic, preshed, markdown-it-py, language-data, rich, langcodes, confection, typer, thinc, weasel, spacy\n",
            "Successfully installed annotated-types-0.7.0 blis-1.2.0 catalogue-2.0.10 click-8.1.8 cloudpathlib-0.20.0 confection-0.1.5 cymem-2.0.11 langcodes-3.5.0 language-data-1.3.0 marisa-trie-1.2.1 markdown-it-py-3.0.0 mdurl-0.1.2 murmurhash-1.0.12 preshed-3.0.9 pydantic-2.10.6 pydantic-core-2.27.2 rich-13.9.4 shellingham-1.5.4 smart-open-7.1.0 spacy-3.8.4 spacy-legacy-3.0.12 spacy-loggers-1.0.5 srsly-2.5.1 thinc-8.3.4 typer-0.15.1 wasabi-1.1.3 weasel-0.4.1 wrapt-1.17.2\n",
            "\n",
            "\u001b[1m[\u001b[0m\u001b[34;49mnotice\u001b[0m\u001b[1;39;49m]\u001b[0m\u001b[39;49m A new release of pip available: \u001b[0m\u001b[31;49m22.2.1\u001b[0m\u001b[39;49m -> \u001b[0m\u001b[32;49m25.0\u001b[0m\n",
            "\u001b[1m[\u001b[0m\u001b[34;49mnotice\u001b[0m\u001b[1;39;49m]\u001b[0m\u001b[39;49m To update, run: \u001b[0m\u001b[32;49mpip install --upgrade pip\u001b[0m\n",
            "Collecting goatools\n",
            "  Downloading goatools-1.4.12-py3-none-any.whl (15.8 MB)\n",
            "\u001b[2K     \u001b[90m━━━━━━━━━━━━━━━━━━━━━━━━━━━━━━━━━━━━━━━━\u001b[0m \u001b[32m15.8/15.8 MB\u001b[0m \u001b[31m4.9 MB/s\u001b[0m eta \u001b[36m0:00:00\u001b[0m00:01\u001b[0m00:01\u001b[0m\n",
            "\u001b[?25hRequirement already satisfied: numpy in /Users/crystalcho/.pyenv/versions/3.10.6/lib/python3.10/site-packages (from goatools) (2.2.2)\n",
            "Collecting pandas\n",
            "  Downloading pandas-2.2.3-cp310-cp310-macosx_11_0_arm64.whl (11.3 MB)\n",
            "\u001b[2K     \u001b[90m━━━━━━━━━━━━━━━━━━━━━━━━━━━━━━━━━━━━━━━━\u001b[0m \u001b[32m11.3/11.3 MB\u001b[0m \u001b[31m4.2 MB/s\u001b[0m eta \u001b[36m0:00:00\u001b[0m00:01\u001b[0m00:01\u001b[0m\n",
            "\u001b[?25hCollecting pydot\n",
            "  Downloading pydot-3.0.4-py3-none-any.whl (35 kB)\n",
            "Collecting ftpretty\n",
            "  Downloading ftpretty-0.4.0-py2.py3-none-any.whl (8.2 kB)\n",
            "Collecting openpyxl\n",
            "  Downloading openpyxl-3.1.5-py2.py3-none-any.whl (250 kB)\n",
            "\u001b[2K     \u001b[90m━━━━━━━━━━━━━━━━━━━━━━━━━━━━━━━━━━━━━━━\u001b[0m \u001b[32m250.9/250.9 kB\u001b[0m \u001b[31m6.7 MB/s\u001b[0m eta \u001b[36m0:00:00\u001b[0m\n",
            "\u001b[?25hCollecting xlsxwriter\n",
            "  Downloading XlsxWriter-3.2.2-py3-none-any.whl (165 kB)\n",
            "\u001b[2K     \u001b[90m━━━━━━━━━━━━━━━━━━━━━━━━━━━━━━━━━━━━━━\u001b[0m \u001b[32m165.1/165.1 kB\u001b[0m \u001b[31m12.6 MB/s\u001b[0m eta \u001b[36m0:00:00\u001b[0m\n",
            "\u001b[?25hCollecting statsmodels\n",
            "  Downloading statsmodels-0.14.4-cp310-cp310-macosx_11_0_arm64.whl (9.9 MB)\n",
            "\u001b[2K     \u001b[90m━━━━━━━━━━━━━━━━━━━━━━━━━━━━━━━━━━━━━━━━\u001b[0m \u001b[32m9.9/9.9 MB\u001b[0m \u001b[31m5.0 MB/s\u001b[0m eta \u001b[36m0:00:00\u001b[0m00:01\u001b[0m00:01\u001b[0mm\n",
            "\u001b[?25hRequirement already satisfied: setuptools in /Users/crystalcho/.pyenv/versions/3.10.6/lib/python3.10/site-packages (from goatools) (63.2.0)\n",
            "Collecting docopt\n",
            "  Downloading docopt-0.6.2.tar.gz (25 kB)\n",
            "  Preparing metadata (setup.py) ... \u001b[?25ldone\n",
            "\u001b[?25hRequirement already satisfied: requests in /Users/crystalcho/.pyenv/versions/3.10.6/lib/python3.10/site-packages (from goatools) (2.32.3)\n",
            "Collecting scipy\n",
            "  Downloading scipy-1.15.1-cp310-cp310-macosx_14_0_arm64.whl (24.8 MB)\n",
            "\u001b[2K     \u001b[90m━━━━━━━━━━━━━━━━━━━━━━━━━━━━━━━━━━━━━━━━\u001b[0m \u001b[32m24.8/24.8 MB\u001b[0m \u001b[31m3.7 MB/s\u001b[0m eta \u001b[36m0:00:00\u001b[0m00:01\u001b[0m00:01\u001b[0m\n",
            "\u001b[?25hRequirement already satisfied: rich in /Users/crystalcho/.pyenv/versions/3.10.6/lib/python3.10/site-packages (from goatools) (13.9.4)\n",
            "Requirement already satisfied: python-dateutil in /Users/crystalcho/.pyenv/versions/3.10.6/lib/python3.10/site-packages (from ftpretty->goatools) (2.9.0.post0)\n",
            "Collecting et-xmlfile\n",
            "  Downloading et_xmlfile-2.0.0-py3-none-any.whl (18 kB)\n",
            "Collecting tzdata>=2022.7\n",
            "  Downloading tzdata-2025.1-py2.py3-none-any.whl (346 kB)\n",
            "\u001b[2K     \u001b[90m━━━━━━━━━━━━━━━━━━━━━━━━━━━━━━━━━━━━━━━\u001b[0m \u001b[32m346.8/346.8 kB\u001b[0m \u001b[31m6.9 MB/s\u001b[0m eta \u001b[36m0:00:00\u001b[0ma \u001b[36m0:00:01\u001b[0m\n",
            "\u001b[?25hCollecting pytz>=2020.1\n",
            "  Downloading pytz-2025.1-py2.py3-none-any.whl (507 kB)\n",
            "\u001b[2K     \u001b[90m━━━━━━━━━━━━━━━━━━━━━━━━━━━━━━━━━━━━━━\u001b[0m \u001b[32m507.9/507.9 kB\u001b[0m \u001b[31m10.0 MB/s\u001b[0m eta \u001b[36m0:00:00\u001b[0ma \u001b[36m0:00:01\u001b[0m\n",
            "\u001b[?25hCollecting pyparsing>=3.0.9\n",
            "  Downloading pyparsing-3.2.1-py3-none-any.whl (107 kB)\n",
            "\u001b[2K     \u001b[90m━━━━━━━━━━━━━━━━━━━━━━━━━━━━━━━━━━━━━━\u001b[0m \u001b[32m107.7/107.7 kB\u001b[0m \u001b[31m12.7 MB/s\u001b[0m eta \u001b[36m0:00:00\u001b[0m\n",
            "\u001b[?25hRequirement already satisfied: certifi>=2017.4.17 in /Users/crystalcho/.pyenv/versions/3.10.6/lib/python3.10/site-packages (from requests->goatools) (2024.12.14)\n",
            "Requirement already satisfied: idna<4,>=2.5 in /Users/crystalcho/.pyenv/versions/3.10.6/lib/python3.10/site-packages (from requests->goatools) (3.10)\n",
            "Requirement already satisfied: charset-normalizer<4,>=2 in /Users/crystalcho/.pyenv/versions/3.10.6/lib/python3.10/site-packages (from requests->goatools) (3.4.1)\n",
            "Requirement already satisfied: urllib3<3,>=1.21.1 in /Users/crystalcho/.pyenv/versions/3.10.6/lib/python3.10/site-packages (from requests->goatools) (2.3.0)\n",
            "Requirement already satisfied: markdown-it-py>=2.2.0 in /Users/crystalcho/.pyenv/versions/3.10.6/lib/python3.10/site-packages (from rich->goatools) (3.0.0)\n",
            "Requirement already satisfied: typing-extensions<5.0,>=4.0.0 in /Users/crystalcho/.pyenv/versions/3.10.6/lib/python3.10/site-packages (from rich->goatools) (4.12.2)\n",
            "Requirement already satisfied: pygments<3.0.0,>=2.13.0 in /Users/crystalcho/.pyenv/versions/3.10.6/lib/python3.10/site-packages (from rich->goatools) (2.19.1)\n",
            "Requirement already satisfied: packaging>=21.3 in /Users/crystalcho/.pyenv/versions/3.10.6/lib/python3.10/site-packages (from statsmodels->goatools) (24.2)\n",
            "Collecting patsy>=0.5.6\n",
            "  Downloading patsy-1.0.1-py2.py3-none-any.whl (232 kB)\n",
            "\u001b[2K     \u001b[90m━━━━━━━━━━━━━━━━━━━━━━━━━━━━━━━━━━━━━━\u001b[0m \u001b[32m232.9/232.9 kB\u001b[0m \u001b[31m10.3 MB/s\u001b[0m eta \u001b[36m0:00:00\u001b[0m\n",
            "\u001b[?25hRequirement already satisfied: mdurl~=0.1 in /Users/crystalcho/.pyenv/versions/3.10.6/lib/python3.10/site-packages (from markdown-it-py>=2.2.0->rich->goatools) (0.1.2)\n",
            "Requirement already satisfied: six>=1.5 in /Users/crystalcho/.pyenv/versions/3.10.6/lib/python3.10/site-packages (from python-dateutil->ftpretty->goatools) (1.17.0)\n",
            "Using legacy 'setup.py install' for docopt, since package 'wheel' is not installed.\n",
            "Installing collected packages: pytz, docopt, xlsxwriter, tzdata, scipy, pyparsing, patsy, et-xmlfile, pydot, pandas, openpyxl, ftpretty, statsmodels, goatools\n",
            "  Running setup.py install for docopt ... \u001b[?25ldone\n",
            "\u001b[?25hSuccessfully installed docopt-0.6.2 et-xmlfile-2.0.0 ftpretty-0.4.0 goatools-1.4.12 openpyxl-3.1.5 pandas-2.2.3 patsy-1.0.1 pydot-3.0.4 pyparsing-3.2.1 pytz-2025.1 scipy-1.15.1 statsmodels-0.14.4 tzdata-2025.1 xlsxwriter-3.2.2\n",
            "\n",
            "\u001b[1m[\u001b[0m\u001b[34;49mnotice\u001b[0m\u001b[1;39;49m]\u001b[0m\u001b[39;49m A new release of pip available: \u001b[0m\u001b[31;49m22.2.1\u001b[0m\u001b[39;49m -> \u001b[0m\u001b[32;49m25.0\u001b[0m\n",
            "\u001b[1m[\u001b[0m\u001b[34;49mnotice\u001b[0m\u001b[1;39;49m]\u001b[0m\u001b[39;49m To update, run: \u001b[0m\u001b[32;49mpip install --upgrade pip\u001b[0m\n"
          ]
        }
      ],
      "source": [
        "!pip install spacy\n",
        "!pip install goatools"
      ]
    },
    {
      "cell_type": "code",
      "execution_count": 2,
      "metadata": {
        "colab": {
          "base_uri": "https://localhost:8080/"
        },
        "id": "UgyLKWJUln1G",
        "outputId": "3a8de6a0-bf58-470e-97aa-acfc90137220"
      },
      "outputs": [
        {
          "ename": "ModuleNotFoundError",
          "evalue": "No module named 'google'",
          "output_type": "error",
          "traceback": [
            "\u001b[0;31m---------------------------------------------------------------------------\u001b[0m",
            "\u001b[0;31mModuleNotFoundError\u001b[0m                       Traceback (most recent call last)",
            "Cell \u001b[0;32mIn[2], line 1\u001b[0m\n\u001b[0;32m----> 1\u001b[0m \u001b[38;5;28;01mfrom\u001b[39;00m\u001b[38;5;250m \u001b[39m\u001b[38;5;21;01mgoogle\u001b[39;00m\u001b[38;5;21;01m.\u001b[39;00m\u001b[38;5;21;01mcolab\u001b[39;00m\u001b[38;5;250m \u001b[39m\u001b[38;5;28;01mimport\u001b[39;00m drive\n\u001b[1;32m      2\u001b[0m drive\u001b[38;5;241m.\u001b[39mmount(\u001b[38;5;124m'\u001b[39m\u001b[38;5;124m/content/drive\u001b[39m\u001b[38;5;124m'\u001b[39m)\n",
            "\u001b[0;31mModuleNotFoundError\u001b[0m: No module named 'google'"
          ]
        }
      ],
      "source": [
        "from google.colab import drive\n",
        "drive.mount('/content/drive')"
      ]
    },
    {
      "cell_type": "code",
      "execution_count": 3,
      "metadata": {
        "id": "UWSHSonXlTeG"
      },
      "outputs": [],
      "source": [
        "# packages\n",
        "import torch\n",
        "from transformers import AutoModelForCausalLM, AutoTokenizer, BitsAndBytesConfig\n",
        "import spacy\n",
        "from goatools import obo_parser"
      ]
    },
    {
      "cell_type": "markdown",
      "metadata": {
        "id": "dZi36hlqlTeH"
      },
      "source": [
        "### 1. download the obo file from the gene ontology consortium https://geneontology.org/docs/download-ontology/"
      ]
    },
    {
      "cell_type": "code",
      "execution_count": 4,
      "metadata": {
        "colab": {
          "base_uri": "https://localhost:8080/"
        },
        "id": "rg76q6KYlTeI",
        "outputId": "34f67e3b-d98e-408f-8441-eda398ee91bf"
      },
      "outputs": [
        {
          "name": "stdout",
          "output_type": "stream",
          "text": [
            "Loading Gene Ontology database...\n",
            "/content/drive/MyDrive/GOLLM/go-basic.obo: fmt(1.2) rel(2024-10-27) 44,017 Terms\n"
          ]
        }
      ],
      "source": [
        "print(\"Loading Gene Ontology database...\")\n",
        "GO_OBO_FILE = \"/content/drive/MyDrive/GOLLM/go-basic.obo\"    # DESTINATION OF THE GO OBO FILE\n",
        "go_dag = obo_parser.GODag(GO_OBO_FILE)"
      ]
    },
    {
      "cell_type": "markdown",
      "metadata": {
        "id": "4e_Jt2T5lTeJ"
      },
      "source": [
        "### 2. Use pip to install the ner model\n",
        "- got it from https://s3-us-west-2.amazonaws.com/ai2-s2-scispacy\n",
        "- github page: https://github.com/allenai/scispacy"
      ]
    },
    {
      "cell_type": "code",
      "execution_count": 5,
      "metadata": {
        "colab": {
          "base_uri": "https://localhost:8080/"
        },
        "id": "PNUlSJghlTeJ",
        "outputId": "08f86aa4-08b7-4e40-de57-ca2ab786c0be"
      },
      "outputs": [
        {
          "name": "stdout",
          "output_type": "stream",
          "text": [
            "Collecting https://s3-us-west-2.amazonaws.com/ai2-s2-scispacy/releases/v0.5.4/en_ner_jnlpba_md-0.5.4.tar.gz\n",
            "  Downloading https://s3-us-west-2.amazonaws.com/ai2-s2-scispacy/releases/v0.5.4/en_ner_jnlpba_md-0.5.4.tar.gz (119.8 MB)\n",
            "\u001b[2K     \u001b[90m━━━━━━━━━━━━━━━━━━━━━━━━━━━━━━━━━━━━━━━━\u001b[0m \u001b[32m119.8/119.8 MB\u001b[0m \u001b[31m6.0 MB/s\u001b[0m eta \u001b[36m0:00:00\u001b[0m\n",
            "\u001b[?25h  Preparing metadata (setup.py) ... \u001b[?25l\u001b[?25hdone\n",
            "Requirement already satisfied: spacy<3.8.0,>=3.7.4 in /usr/local/lib/python3.11/dist-packages (from en_ner_jnlpba_md==0.5.4) (3.7.5)\n",
            "Requirement already satisfied: spacy-legacy<3.1.0,>=3.0.11 in /usr/local/lib/python3.11/dist-packages (from spacy<3.8.0,>=3.7.4->en_ner_jnlpba_md==0.5.4) (3.0.12)\n",
            "Requirement already satisfied: spacy-loggers<2.0.0,>=1.0.0 in /usr/local/lib/python3.11/dist-packages (from spacy<3.8.0,>=3.7.4->en_ner_jnlpba_md==0.5.4) (1.0.5)\n",
            "Requirement already satisfied: murmurhash<1.1.0,>=0.28.0 in /usr/local/lib/python3.11/dist-packages (from spacy<3.8.0,>=3.7.4->en_ner_jnlpba_md==0.5.4) (1.0.12)\n",
            "Requirement already satisfied: cymem<2.1.0,>=2.0.2 in /usr/local/lib/python3.11/dist-packages (from spacy<3.8.0,>=3.7.4->en_ner_jnlpba_md==0.5.4) (2.0.11)\n",
            "Requirement already satisfied: preshed<3.1.0,>=3.0.2 in /usr/local/lib/python3.11/dist-packages (from spacy<3.8.0,>=3.7.4->en_ner_jnlpba_md==0.5.4) (3.0.9)\n",
            "Requirement already satisfied: thinc<8.3.0,>=8.2.2 in /usr/local/lib/python3.11/dist-packages (from spacy<3.8.0,>=3.7.4->en_ner_jnlpba_md==0.5.4) (8.2.5)\n",
            "Requirement already satisfied: wasabi<1.2.0,>=0.9.1 in /usr/local/lib/python3.11/dist-packages (from spacy<3.8.0,>=3.7.4->en_ner_jnlpba_md==0.5.4) (1.1.3)\n",
            "Requirement already satisfied: srsly<3.0.0,>=2.4.3 in /usr/local/lib/python3.11/dist-packages (from spacy<3.8.0,>=3.7.4->en_ner_jnlpba_md==0.5.4) (2.5.1)\n",
            "Requirement already satisfied: catalogue<2.1.0,>=2.0.6 in /usr/local/lib/python3.11/dist-packages (from spacy<3.8.0,>=3.7.4->en_ner_jnlpba_md==0.5.4) (2.0.10)\n",
            "Requirement already satisfied: weasel<0.5.0,>=0.1.0 in /usr/local/lib/python3.11/dist-packages (from spacy<3.8.0,>=3.7.4->en_ner_jnlpba_md==0.5.4) (0.4.1)\n",
            "Requirement already satisfied: typer<1.0.0,>=0.3.0 in /usr/local/lib/python3.11/dist-packages (from spacy<3.8.0,>=3.7.4->en_ner_jnlpba_md==0.5.4) (0.15.1)\n",
            "Requirement already satisfied: tqdm<5.0.0,>=4.38.0 in /usr/local/lib/python3.11/dist-packages (from spacy<3.8.0,>=3.7.4->en_ner_jnlpba_md==0.5.4) (4.67.1)\n",
            "Requirement already satisfied: requests<3.0.0,>=2.13.0 in /usr/local/lib/python3.11/dist-packages (from spacy<3.8.0,>=3.7.4->en_ner_jnlpba_md==0.5.4) (2.32.3)\n",
            "Requirement already satisfied: pydantic!=1.8,!=1.8.1,<3.0.0,>=1.7.4 in /usr/local/lib/python3.11/dist-packages (from spacy<3.8.0,>=3.7.4->en_ner_jnlpba_md==0.5.4) (2.10.6)\n",
            "Requirement already satisfied: jinja2 in /usr/local/lib/python3.11/dist-packages (from spacy<3.8.0,>=3.7.4->en_ner_jnlpba_md==0.5.4) (3.1.5)\n",
            "Requirement already satisfied: setuptools in /usr/local/lib/python3.11/dist-packages (from spacy<3.8.0,>=3.7.4->en_ner_jnlpba_md==0.5.4) (75.1.0)\n",
            "Requirement already satisfied: packaging>=20.0 in /usr/local/lib/python3.11/dist-packages (from spacy<3.8.0,>=3.7.4->en_ner_jnlpba_md==0.5.4) (24.2)\n",
            "Requirement already satisfied: langcodes<4.0.0,>=3.2.0 in /usr/local/lib/python3.11/dist-packages (from spacy<3.8.0,>=3.7.4->en_ner_jnlpba_md==0.5.4) (3.5.0)\n",
            "Requirement already satisfied: numpy>=1.19.0 in /usr/local/lib/python3.11/dist-packages (from spacy<3.8.0,>=3.7.4->en_ner_jnlpba_md==0.5.4) (1.26.4)\n",
            "Requirement already satisfied: language-data>=1.2 in /usr/local/lib/python3.11/dist-packages (from langcodes<4.0.0,>=3.2.0->spacy<3.8.0,>=3.7.4->en_ner_jnlpba_md==0.5.4) (1.3.0)\n",
            "Requirement already satisfied: annotated-types>=0.6.0 in /usr/local/lib/python3.11/dist-packages (from pydantic!=1.8,!=1.8.1,<3.0.0,>=1.7.4->spacy<3.8.0,>=3.7.4->en_ner_jnlpba_md==0.5.4) (0.7.0)\n",
            "Requirement already satisfied: pydantic-core==2.27.2 in /usr/local/lib/python3.11/dist-packages (from pydantic!=1.8,!=1.8.1,<3.0.0,>=1.7.4->spacy<3.8.0,>=3.7.4->en_ner_jnlpba_md==0.5.4) (2.27.2)\n",
            "Requirement already satisfied: typing-extensions>=4.12.2 in /usr/local/lib/python3.11/dist-packages (from pydantic!=1.8,!=1.8.1,<3.0.0,>=1.7.4->spacy<3.8.0,>=3.7.4->en_ner_jnlpba_md==0.5.4) (4.12.2)\n",
            "Requirement already satisfied: charset-normalizer<4,>=2 in /usr/local/lib/python3.11/dist-packages (from requests<3.0.0,>=2.13.0->spacy<3.8.0,>=3.7.4->en_ner_jnlpba_md==0.5.4) (3.4.1)\n",
            "Requirement already satisfied: idna<4,>=2.5 in /usr/local/lib/python3.11/dist-packages (from requests<3.0.0,>=2.13.0->spacy<3.8.0,>=3.7.4->en_ner_jnlpba_md==0.5.4) (3.10)\n",
            "Requirement already satisfied: urllib3<3,>=1.21.1 in /usr/local/lib/python3.11/dist-packages (from requests<3.0.0,>=2.13.0->spacy<3.8.0,>=3.7.4->en_ner_jnlpba_md==0.5.4) (2.3.0)\n",
            "Requirement already satisfied: certifi>=2017.4.17 in /usr/local/lib/python3.11/dist-packages (from requests<3.0.0,>=2.13.0->spacy<3.8.0,>=3.7.4->en_ner_jnlpba_md==0.5.4) (2024.12.14)\n",
            "Requirement already satisfied: blis<0.8.0,>=0.7.8 in /usr/local/lib/python3.11/dist-packages (from thinc<8.3.0,>=8.2.2->spacy<3.8.0,>=3.7.4->en_ner_jnlpba_md==0.5.4) (0.7.11)\n",
            "Requirement already satisfied: confection<1.0.0,>=0.0.1 in /usr/local/lib/python3.11/dist-packages (from thinc<8.3.0,>=8.2.2->spacy<3.8.0,>=3.7.4->en_ner_jnlpba_md==0.5.4) (0.1.5)\n",
            "Requirement already satisfied: click>=8.0.0 in /usr/local/lib/python3.11/dist-packages (from typer<1.0.0,>=0.3.0->spacy<3.8.0,>=3.7.4->en_ner_jnlpba_md==0.5.4) (8.1.8)\n",
            "Requirement already satisfied: shellingham>=1.3.0 in /usr/local/lib/python3.11/dist-packages (from typer<1.0.0,>=0.3.0->spacy<3.8.0,>=3.7.4->en_ner_jnlpba_md==0.5.4) (1.5.4)\n",
            "Requirement already satisfied: rich>=10.11.0 in /usr/local/lib/python3.11/dist-packages (from typer<1.0.0,>=0.3.0->spacy<3.8.0,>=3.7.4->en_ner_jnlpba_md==0.5.4) (13.9.4)\n",
            "Requirement already satisfied: cloudpathlib<1.0.0,>=0.7.0 in /usr/local/lib/python3.11/dist-packages (from weasel<0.5.0,>=0.1.0->spacy<3.8.0,>=3.7.4->en_ner_jnlpba_md==0.5.4) (0.20.0)\n",
            "Requirement already satisfied: smart-open<8.0.0,>=5.2.1 in /usr/local/lib/python3.11/dist-packages (from weasel<0.5.0,>=0.1.0->spacy<3.8.0,>=3.7.4->en_ner_jnlpba_md==0.5.4) (7.1.0)\n",
            "Requirement already satisfied: MarkupSafe>=2.0 in /usr/local/lib/python3.11/dist-packages (from jinja2->spacy<3.8.0,>=3.7.4->en_ner_jnlpba_md==0.5.4) (3.0.2)\n",
            "Requirement already satisfied: marisa-trie>=1.1.0 in /usr/local/lib/python3.11/dist-packages (from language-data>=1.2->langcodes<4.0.0,>=3.2.0->spacy<3.8.0,>=3.7.4->en_ner_jnlpba_md==0.5.4) (1.2.1)\n",
            "Requirement already satisfied: markdown-it-py>=2.2.0 in /usr/local/lib/python3.11/dist-packages (from rich>=10.11.0->typer<1.0.0,>=0.3.0->spacy<3.8.0,>=3.7.4->en_ner_jnlpba_md==0.5.4) (3.0.0)\n",
            "Requirement already satisfied: pygments<3.0.0,>=2.13.0 in /usr/local/lib/python3.11/dist-packages (from rich>=10.11.0->typer<1.0.0,>=0.3.0->spacy<3.8.0,>=3.7.4->en_ner_jnlpba_md==0.5.4) (2.18.0)\n",
            "Requirement already satisfied: wrapt in /usr/local/lib/python3.11/dist-packages (from smart-open<8.0.0,>=5.2.1->weasel<0.5.0,>=0.1.0->spacy<3.8.0,>=3.7.4->en_ner_jnlpba_md==0.5.4) (1.17.2)\n",
            "Requirement already satisfied: mdurl~=0.1 in /usr/local/lib/python3.11/dist-packages (from markdown-it-py>=2.2.0->rich>=10.11.0->typer<1.0.0,>=0.3.0->spacy<3.8.0,>=3.7.4->en_ner_jnlpba_md==0.5.4) (0.1.2)\n",
            "Building wheels for collected packages: en_ner_jnlpba_md\n",
            "  Building wheel for en_ner_jnlpba_md (setup.py) ... \u001b[?25l\u001b[?25hdone\n",
            "  Created wheel for en_ner_jnlpba_md: filename=en_ner_jnlpba_md-0.5.4-py3-none-any.whl size=119812563 sha256=712b5f524ac1433f1b84473a92f5e3d7523ec0b76a5353e8515d2fb26fe76241\n",
            "  Stored in directory: /root/.cache/pip/wheels/54/08/75/70edaa77aaa14899be57afbfc00d0973376abb89d215540fa2\n",
            "Successfully built en_ner_jnlpba_md\n",
            "Installing collected packages: en_ner_jnlpba_md\n",
            "Successfully installed en_ner_jnlpba_md-0.5.4\n",
            "Loading biomedical NLP model...\n"
          ]
        },
        {
          "name": "stderr",
          "output_type": "stream",
          "text": [
            "/usr/local/lib/python3.11/dist-packages/spacy/language.py:2195: FutureWarning: Possible set union at position 6328\n",
            "  deserializers[\"tokenizer\"] = lambda p: self.tokenizer.from_disk(  # type: ignore[union-attr]\n"
          ]
        }
      ],
      "source": [
        "!pip install https://s3-us-west-2.amazonaws.com/ai2-s2-scispacy/releases/v0.5.4/en_ner_jnlpba_md-0.5.4.tar.gz\n",
        "print(\"Loading biomedical NLP model...\")\n",
        "nlp = spacy.load(\"en_ner_jnlpba_md\")  # Scientific/biomedical entity recognition\n"
      ]
    },
    {
      "cell_type": "markdown",
      "metadata": {
        "id": "K-deaJyqlTeK"
      },
      "source": [
        "### load the tokenizer and the model and put it to cuda"
      ]
    },
    {
      "cell_type": "code",
      "execution_count": 6,
      "metadata": {
        "colab": {
          "base_uri": "https://localhost:8080/",
          "height": 66,
          "referenced_widgets": [
            "cee8e22c66304263982360f15c154d45",
            "ca9b7a5611fe444296d184a1531a40fa",
            "16639563f75d45568a5cc2db6572e0c4",
            "fd60aa4e739044b7981e40d3e1ed9715",
            "f55a050935cb4ecea3f0e31d3daacdf9",
            "38d48a5604644dd59ffaf17bab17d240",
            "6e1b2d2097be49d1b23b21a5f9f38405",
            "dd36e50b60854bfba2e542adf626be66",
            "e57c9688755d4bf8b2ba4d7f2ad20e8e",
            "298d37b274cf474c9c9b4963744a5843",
            "b3faa3682b3b42a0a5477cd2fcb73856"
          ]
        },
        "id": "WgShKztdlTeK",
        "outputId": "f76b446a-2942-4238-a8f7-a6e987fadda7"
      },
      "outputs": [
        {
          "name": "stdout",
          "output_type": "stream",
          "text": [
            "Loading LLaMA model.\n"
          ]
        },
        {
          "data": {
            "application/vnd.jupyter.widget-view+json": {
              "model_id": "cee8e22c66304263982360f15c154d45",
              "version_major": 2,
              "version_minor": 0
            },
            "text/plain": [
              "Loading checkpoint shards:   0%|          | 0/3 [00:00<?, ?it/s]"
            ]
          },
          "metadata": {},
          "output_type": "display_data"
        }
      ],
      "source": [
        "print(\"Loading LLaMA model.\")\n",
        "model_dir = \"/content/drive/MyDrive/GOLLM/Llama 3.2-3B-Instruct-model\"\n",
        "device = torch.device(\"cuda\")\n",
        "tokenizer = AutoTokenizer.from_pretrained(model_dir, local_files_only=True)\n",
        "model = AutoModelForCausalLM.from_pretrained(model_dir, local_files_only=True).to(device)\n"
      ]
    },
    {
      "cell_type": "code",
      "execution_count": 13,
      "metadata": {
        "colab": {
          "base_uri": "https://localhost:8080/"
        },
        "id": "C9KlaaAnlTeM",
        "outputId": "be1448e3-52a5-4ef5-e6f3-b3e590518e0f"
      },
      "outputs": [
        {
          "name": "stdout",
          "output_type": "stream",
          "text": [
            "\n",
            "Analyzing sample article...\n",
            "\n",
            "Results:\n",
            "\n",
            "Gene: insulin\n",
            "  BP: ✗ glucose metabolism\n",
            "  MF: ✗ glucose uptake\n",
            "  CC: ✓ insulin receptor complex\n"
          ]
        }
      ],
      "source": [
        "\n",
        "# ----------------------------\n",
        "# 4. Gene Ontology Analysis Pipeline\n",
        "# ----------------------------\n",
        "def analyze_article(article_text: str) -> dict:\n",
        "    \"\"\"Process article text and infer Gene Ontology terms\"\"\"\n",
        "\n",
        "    # Step 1: Extract genes/proteins using SciSpacy\n",
        "    doc = nlp(article_text)\n",
        "    genes = list({ent.text for ent in doc.ents\n",
        "                if ent.label_ in [\"GENE\", \"PROTEIN\"]})\n",
        "\n",
        "    if not genes:\n",
        "        return {\"error\": \"No genes/proteins detected\"}\n",
        "\n",
        "    # Step 2: Build structured prompt\n",
        "    prompt = f\"\"\"Analyze this biomedical article and infer Gene Ontology terms:\n",
        "\n",
        "    Article excerpt:\n",
        "    {article_text[:3000]}... [truncated]\n",
        "\n",
        "    Detected entities: {', '.join(genes)}\n",
        "\n",
        "    [IMPORTANT]\n",
        "    For each entity, provide:\n",
        "    1. Biological Process (BP)\n",
        "    2. Molecular Function (MF)\n",
        "    3. Cellular Component (CC)\n",
        "\n",
        "    Format exactly like this:\n",
        "    Gene: [NAME]\n",
        "    - BP: [TERM] (confidence: high/medium/low)\n",
        "    - MF: [TERM]\n",
        "    - CC: [TERM]\n",
        "    \"\"\"\n",
        "\n",
        "    # Step 3: Generate predictions\n",
        "    # - add max_length (optional)\n",
        "    # - truncation (optional)\n",
        "    inputs = tokenizer(prompt, return_tensors=\"pt\").to(\"cuda\")\n",
        "\n",
        "    outputs = model.generate(\n",
        "        **inputs,\n",
        "        max_new_tokens=1024,\n",
        "        temperature=0.7,\n",
        "        top_p=0.9,\n",
        "        pad_token_id=tokenizer.eos_token_id\n",
        "    )\n",
        "\n",
        "    # Step 4: Process and validate results\n",
        "    generated_text = tokenizer.decode(outputs[0], skip_special_tokens=True)\n",
        "    result_text = generated_text[len(prompt):].strip()\n",
        "    return parse_and_validate_results(result_text, genes)\n",
        "\n",
        "def parse_and_validate_results(text: str, expected_genes: list) -> dict:\n",
        "    \"\"\"Parse model output and validate against GO database\"\"\"\n",
        "    results = {gene: {\"BP\": None, \"MF\": None, \"CC\": None} for gene in expected_genes}\n",
        "    current_gene = None\n",
        "\n",
        "    for line in text.split('\\n'):\n",
        "        if line.startswith(\"Gene:\"):\n",
        "            current_gene = line.split(\":\")[1].strip()\n",
        "\n",
        "            # Handle variations in gene names\n",
        "            if current_gene not in results:\n",
        "                print(f\"Warning: {current_gene} not in detected genes. Skipping.\")\n",
        "                continue  # Ignore unrecognized genes\n",
        "\n",
        "        elif current_gene:\n",
        "            if \"- BP:\" in line:\n",
        "                results[current_gene][\"BP\"] = validate_term(line, \"biological_process\")\n",
        "            elif \"- MF:\" in line:\n",
        "                results[current_gene][\"MF\"] = validate_term(line, \"molecular_function\")\n",
        "            elif \"- CC:\" in line:\n",
        "                results[current_gene][\"CC\"] = validate_term(line, \"cellular_component\")\n",
        "\n",
        "    return results\n",
        "\n",
        "def validate_term(line: str, ontology_type: str) -> dict:\n",
        "    \"\"\"Validate a GO term against the ontology database\"\"\"\n",
        "    term = line.split(\":\")[1].split(\"(\")[0].strip()\n",
        "    return {\n",
        "        \"term\": term,\n",
        "        \"valid\": any(term.lower() == go_term.name.lower()\n",
        "                    for go_term in go_dag.values()\n",
        "                    if go_term.namespace == ontology_type),\n",
        "        \"original_line\": line.strip()\n",
        "    }\n",
        "\n",
        "# ----------------------------\n",
        "# 5. Example Usage\n",
        "# ----------------------------\n",
        "if __name__ == \"__main__\":\n",
        "    # sample_article = \"\"\"\n",
        "    # The tumor suppressor protein p53 (TP53) plays a crucial role in DNA repair mechanisms\n",
        "    # through regulation of downstream targets including MDM2 and BRCA1. Recent studies\n",
        "    # demonstrate that TP53-mediated activation of these genes facilitates homologous\n",
        "    # recombination repair via interaction with RAD51.\n",
        "    # \"\"\"\n",
        "    # sample_article = open(\"C:/Users/aivan/Desktop/BIOIN 401/GOLLM/data/fetched_articles/20833636.txt\", \"r\").read()\n",
        "    sample_article = \"insulin is a hormone that regulates blood sugar levels\"\n",
        "    print(\"\\nAnalyzing sample article...\")\n",
        "    analysis = analyze_article(sample_article)\n",
        "\n",
        "    print(\"\\nResults:\")\n",
        "    if 'error' not in analysis:\n",
        "      for gene, terms in analysis.items():\n",
        "          print(f\"\\nGene: {gene}\")\n",
        "          for ontology in [\"BP\", \"MF\", \"CC\"]:\n",
        "              data = terms[ontology]\n",
        "              status = \"✓\" if data[\"valid\"] else \"✗\"\n",
        "              print(f\"  {ontology}: {status} {data['term']}\")\n",
        "    else:\n",
        "      print(f\"Error: {analysis['error']}\")"
      ]
    }
  ],
  "metadata": {
    "accelerator": "GPU",
    "colab": {
      "gpuType": "T4",
      "provenance": []
    },
    "kernelspec": {
      "display_name": "3.10.6",
      "language": "python",
      "name": "python3"
    },
    "language_info": {
      "codemirror_mode": {
        "name": "ipython",
        "version": 3
      },
      "file_extension": ".py",
      "mimetype": "text/x-python",
      "name": "python",
      "nbconvert_exporter": "python",
      "pygments_lexer": "ipython3",
      "version": "3.10.6"
    },
    "widgets": {
      "application/vnd.jupyter.widget-state+json": {
        "16639563f75d45568a5cc2db6572e0c4": {
          "model_module": "@jupyter-widgets/controls",
          "model_module_version": "1.5.0",
          "model_name": "FloatProgressModel",
          "state": {
            "_dom_classes": [],
            "_model_module": "@jupyter-widgets/controls",
            "_model_module_version": "1.5.0",
            "_model_name": "FloatProgressModel",
            "_view_count": null,
            "_view_module": "@jupyter-widgets/controls",
            "_view_module_version": "1.5.0",
            "_view_name": "ProgressView",
            "bar_style": "success",
            "description": "",
            "description_tooltip": null,
            "layout": "IPY_MODEL_dd36e50b60854bfba2e542adf626be66",
            "max": 3,
            "min": 0,
            "orientation": "horizontal",
            "style": "IPY_MODEL_e57c9688755d4bf8b2ba4d7f2ad20e8e",
            "value": 3
          }
        },
        "298d37b274cf474c9c9b4963744a5843": {
          "model_module": "@jupyter-widgets/base",
          "model_module_version": "1.2.0",
          "model_name": "LayoutModel",
          "state": {
            "_model_module": "@jupyter-widgets/base",
            "_model_module_version": "1.2.0",
            "_model_name": "LayoutModel",
            "_view_count": null,
            "_view_module": "@jupyter-widgets/base",
            "_view_module_version": "1.2.0",
            "_view_name": "LayoutView",
            "align_content": null,
            "align_items": null,
            "align_self": null,
            "border": null,
            "bottom": null,
            "display": null,
            "flex": null,
            "flex_flow": null,
            "grid_area": null,
            "grid_auto_columns": null,
            "grid_auto_flow": null,
            "grid_auto_rows": null,
            "grid_column": null,
            "grid_gap": null,
            "grid_row": null,
            "grid_template_areas": null,
            "grid_template_columns": null,
            "grid_template_rows": null,
            "height": null,
            "justify_content": null,
            "justify_items": null,
            "left": null,
            "margin": null,
            "max_height": null,
            "max_width": null,
            "min_height": null,
            "min_width": null,
            "object_fit": null,
            "object_position": null,
            "order": null,
            "overflow": null,
            "overflow_x": null,
            "overflow_y": null,
            "padding": null,
            "right": null,
            "top": null,
            "visibility": null,
            "width": null
          }
        },
        "38d48a5604644dd59ffaf17bab17d240": {
          "model_module": "@jupyter-widgets/base",
          "model_module_version": "1.2.0",
          "model_name": "LayoutModel",
          "state": {
            "_model_module": "@jupyter-widgets/base",
            "_model_module_version": "1.2.0",
            "_model_name": "LayoutModel",
            "_view_count": null,
            "_view_module": "@jupyter-widgets/base",
            "_view_module_version": "1.2.0",
            "_view_name": "LayoutView",
            "align_content": null,
            "align_items": null,
            "align_self": null,
            "border": null,
            "bottom": null,
            "display": null,
            "flex": null,
            "flex_flow": null,
            "grid_area": null,
            "grid_auto_columns": null,
            "grid_auto_flow": null,
            "grid_auto_rows": null,
            "grid_column": null,
            "grid_gap": null,
            "grid_row": null,
            "grid_template_areas": null,
            "grid_template_columns": null,
            "grid_template_rows": null,
            "height": null,
            "justify_content": null,
            "justify_items": null,
            "left": null,
            "margin": null,
            "max_height": null,
            "max_width": null,
            "min_height": null,
            "min_width": null,
            "object_fit": null,
            "object_position": null,
            "order": null,
            "overflow": null,
            "overflow_x": null,
            "overflow_y": null,
            "padding": null,
            "right": null,
            "top": null,
            "visibility": null,
            "width": null
          }
        },
        "6e1b2d2097be49d1b23b21a5f9f38405": {
          "model_module": "@jupyter-widgets/controls",
          "model_module_version": "1.5.0",
          "model_name": "DescriptionStyleModel",
          "state": {
            "_model_module": "@jupyter-widgets/controls",
            "_model_module_version": "1.5.0",
            "_model_name": "DescriptionStyleModel",
            "_view_count": null,
            "_view_module": "@jupyter-widgets/base",
            "_view_module_version": "1.2.0",
            "_view_name": "StyleView",
            "description_width": ""
          }
        },
        "b3faa3682b3b42a0a5477cd2fcb73856": {
          "model_module": "@jupyter-widgets/controls",
          "model_module_version": "1.5.0",
          "model_name": "DescriptionStyleModel",
          "state": {
            "_model_module": "@jupyter-widgets/controls",
            "_model_module_version": "1.5.0",
            "_model_name": "DescriptionStyleModel",
            "_view_count": null,
            "_view_module": "@jupyter-widgets/base",
            "_view_module_version": "1.2.0",
            "_view_name": "StyleView",
            "description_width": ""
          }
        },
        "ca9b7a5611fe444296d184a1531a40fa": {
          "model_module": "@jupyter-widgets/controls",
          "model_module_version": "1.5.0",
          "model_name": "HTMLModel",
          "state": {
            "_dom_classes": [],
            "_model_module": "@jupyter-widgets/controls",
            "_model_module_version": "1.5.0",
            "_model_name": "HTMLModel",
            "_view_count": null,
            "_view_module": "@jupyter-widgets/controls",
            "_view_module_version": "1.5.0",
            "_view_name": "HTMLView",
            "description": "",
            "description_tooltip": null,
            "layout": "IPY_MODEL_38d48a5604644dd59ffaf17bab17d240",
            "placeholder": "​",
            "style": "IPY_MODEL_6e1b2d2097be49d1b23b21a5f9f38405",
            "value": "Loading checkpoint shards: 100%"
          }
        },
        "cee8e22c66304263982360f15c154d45": {
          "model_module": "@jupyter-widgets/controls",
          "model_module_version": "1.5.0",
          "model_name": "HBoxModel",
          "state": {
            "_dom_classes": [],
            "_model_module": "@jupyter-widgets/controls",
            "_model_module_version": "1.5.0",
            "_model_name": "HBoxModel",
            "_view_count": null,
            "_view_module": "@jupyter-widgets/controls",
            "_view_module_version": "1.5.0",
            "_view_name": "HBoxView",
            "box_style": "",
            "children": [
              "IPY_MODEL_ca9b7a5611fe444296d184a1531a40fa",
              "IPY_MODEL_16639563f75d45568a5cc2db6572e0c4",
              "IPY_MODEL_fd60aa4e739044b7981e40d3e1ed9715"
            ],
            "layout": "IPY_MODEL_f55a050935cb4ecea3f0e31d3daacdf9"
          }
        },
        "dd36e50b60854bfba2e542adf626be66": {
          "model_module": "@jupyter-widgets/base",
          "model_module_version": "1.2.0",
          "model_name": "LayoutModel",
          "state": {
            "_model_module": "@jupyter-widgets/base",
            "_model_module_version": "1.2.0",
            "_model_name": "LayoutModel",
            "_view_count": null,
            "_view_module": "@jupyter-widgets/base",
            "_view_module_version": "1.2.0",
            "_view_name": "LayoutView",
            "align_content": null,
            "align_items": null,
            "align_self": null,
            "border": null,
            "bottom": null,
            "display": null,
            "flex": null,
            "flex_flow": null,
            "grid_area": null,
            "grid_auto_columns": null,
            "grid_auto_flow": null,
            "grid_auto_rows": null,
            "grid_column": null,
            "grid_gap": null,
            "grid_row": null,
            "grid_template_areas": null,
            "grid_template_columns": null,
            "grid_template_rows": null,
            "height": null,
            "justify_content": null,
            "justify_items": null,
            "left": null,
            "margin": null,
            "max_height": null,
            "max_width": null,
            "min_height": null,
            "min_width": null,
            "object_fit": null,
            "object_position": null,
            "order": null,
            "overflow": null,
            "overflow_x": null,
            "overflow_y": null,
            "padding": null,
            "right": null,
            "top": null,
            "visibility": null,
            "width": null
          }
        },
        "e57c9688755d4bf8b2ba4d7f2ad20e8e": {
          "model_module": "@jupyter-widgets/controls",
          "model_module_version": "1.5.0",
          "model_name": "ProgressStyleModel",
          "state": {
            "_model_module": "@jupyter-widgets/controls",
            "_model_module_version": "1.5.0",
            "_model_name": "ProgressStyleModel",
            "_view_count": null,
            "_view_module": "@jupyter-widgets/base",
            "_view_module_version": "1.2.0",
            "_view_name": "StyleView",
            "bar_color": null,
            "description_width": ""
          }
        },
        "f55a050935cb4ecea3f0e31d3daacdf9": {
          "model_module": "@jupyter-widgets/base",
          "model_module_version": "1.2.0",
          "model_name": "LayoutModel",
          "state": {
            "_model_module": "@jupyter-widgets/base",
            "_model_module_version": "1.2.0",
            "_model_name": "LayoutModel",
            "_view_count": null,
            "_view_module": "@jupyter-widgets/base",
            "_view_module_version": "1.2.0",
            "_view_name": "LayoutView",
            "align_content": null,
            "align_items": null,
            "align_self": null,
            "border": null,
            "bottom": null,
            "display": null,
            "flex": null,
            "flex_flow": null,
            "grid_area": null,
            "grid_auto_columns": null,
            "grid_auto_flow": null,
            "grid_auto_rows": null,
            "grid_column": null,
            "grid_gap": null,
            "grid_row": null,
            "grid_template_areas": null,
            "grid_template_columns": null,
            "grid_template_rows": null,
            "height": null,
            "justify_content": null,
            "justify_items": null,
            "left": null,
            "margin": null,
            "max_height": null,
            "max_width": null,
            "min_height": null,
            "min_width": null,
            "object_fit": null,
            "object_position": null,
            "order": null,
            "overflow": null,
            "overflow_x": null,
            "overflow_y": null,
            "padding": null,
            "right": null,
            "top": null,
            "visibility": null,
            "width": null
          }
        },
        "fd60aa4e739044b7981e40d3e1ed9715": {
          "model_module": "@jupyter-widgets/controls",
          "model_module_version": "1.5.0",
          "model_name": "HTMLModel",
          "state": {
            "_dom_classes": [],
            "_model_module": "@jupyter-widgets/controls",
            "_model_module_version": "1.5.0",
            "_model_name": "HTMLModel",
            "_view_count": null,
            "_view_module": "@jupyter-widgets/controls",
            "_view_module_version": "1.5.0",
            "_view_name": "HTMLView",
            "description": "",
            "description_tooltip": null,
            "layout": "IPY_MODEL_298d37b274cf474c9c9b4963744a5843",
            "placeholder": "​",
            "style": "IPY_MODEL_b3faa3682b3b42a0a5477cd2fcb73856",
            "value": " 3/3 [02:10&lt;00:00, 43.52s/it]"
          }
        }
      }
    }
  },
  "nbformat": 4,
  "nbformat_minor": 0
}
