{
 "cells": [
  {
   "cell_type": "code",
   "execution_count": null,
   "metadata": {},
   "outputs": [],
   "source": [
    "# Cell 1: Import Libraries\n",
    "import pandas as pd\n",
    "import os"
   ]
  },
  {
   "cell_type": "markdown",
   "metadata": {},
   "source": [
    "## Download the PMIDS->PMCIDS mapping from the PMC FTP site. this will be the pmc_ids_file variable in the cell after this\n",
    "[Website link to the .gz file](https://pmc.ncbi.nlm.nih.gov/tools/id-converter-api/#:~:text=Another%20option%20for%20bulk%2Dconversion%20of%20identifiers%20in%20the%20PMC%20system%20is%20to%20download%20the%20PMC%2Dids.csv.gz%20file%2C%20as%20described%20on%20the%20FTP%20Service%20page.)"
   ]
  },
  {
   "cell_type": "code",
   "execution_count": null,
   "metadata": {},
   "outputs": [],
   "source": [
    "# Cell 2: Define File Paths\n",
    "# Define input and output directories\n",
    "subsets_dir = r\"C:\\Users\\aivan\\Desktop\\BIOIN 401\\GOLLM\\data\\matching_pmids_subsets\"  # Directory with subset files\n",
    "pmc_ids_file = r\"C:\\Users\\aivan\\Downloads\\PMC-ids.csv.gz\"  # .gz file\n",
    "output_dir = r\"C:\\Users\\aivan\\Desktop\\BIOIN 401\\GOLLM\\data\\matching_pmcids_subsets\"  # Output directory\n",
    "\n",
    "# Ensure output directory exists\n",
    "os.makedirs(output_dir, exist_ok=True)"
   ]
  },
  {
   "cell_type": "code",
   "execution_count": null,
   "metadata": {},
   "outputs": [],
   "source": [
    "# Cell 3: Load PMC-ids.csv.gz\n",
    "print(\"Loading PMC-ids.csv.gz...\")\n",
    "pmc_ids = pd.read_csv(\n",
    "    pmc_ids_file,\n",
    "    usecols=[\"PMCID\", \"PMID\"],\n",
    "    dtype=str,\n",
    "    compression=\"gzip\"\n",
    ")\n",
    "print(\"PMC-ids.csv.gz loaded successfully!\")"
   ]
  },
  {
   "cell_type": "code",
   "execution_count": null,
   "metadata": {},
   "outputs": [],
   "source": [
    "# Cell 4: Process Each Subset File\n",
    "# Loop through each subset file in the directory\n",
    "for subset_file in os.listdir(subsets_dir):\n",
    "    if subset_file.endswith(\".txt\"):  # Ensure it's a .txt file\n",
    "        subset_path = os.path.join(subsets_dir, subset_file)\n",
    "        \n",
    "        # Extract the subset number from the file name\n",
    "        subset_number = os.path.splitext(subset_file)[0].split('_')[-1]\n",
    "        output_file = os.path.join(output_dir, f\"subset_{subset_number}.txt\")\n",
    "\n",
    "        # Step 1: Load the subset of PMIDs\n",
    "        print(f\"Loading subset file: {subset_file}...\")\n",
    "        subset_pmids = pd.read_csv(subset_path, header=None, names=[\"PMID\"], dtype=str)\n",
    "\n",
    "        # Step 2: Perform the matching\n",
    "        print(f\"Matching PMIDs with PMCIDs for {subset_file}...\")\n",
    "        matched = pd.merge(subset_pmids, pmc_ids, on=\"PMID\", how=\"left\")\n",
    "\n",
    "        # Step 3: Save the result to a .txt file\n",
    "        print(f\"Saving results to output file: subset_{subset_number}.txt...\")\n",
    "        with open(output_file, \"w\", encoding=\"utf-8\") as f:\n",
    "            for _, row in matched.iterrows():\n",
    "                pmid = row[\"PMID\"]\n",
    "                pmcid = row[\"PMCID\"] if pd.notna(row[\"PMCID\"]) else \"NA\"  # Handle missing PMCIDs\n",
    "                f.write(f\"{pmid}\\t{pmcid}\\n\")  # Tab-separated values\n",
    "\n",
    "print(\"Done! All subsets processed.\")\n"
   ]
  }
 ],
 "metadata": {
  "kernelspec": {
   "display_name": "BIOIN311C1",
   "language": "python",
   "name": "python3"
  },
  "language_info": {
   "name": "python",
   "version": "3.11.11"
  }
 },
 "nbformat": 4,
 "nbformat_minor": 2
}
